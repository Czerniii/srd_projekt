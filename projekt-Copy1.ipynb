{
 "cells": [
  {
   "cell_type": "markdown",
   "metadata": {},
   "source": [
    "# ADULT DATA SET \n",
    "\n",
    "14 zmiennych:\n",
    "\n",
    "- Age - wiek<br>\n",
    "- Workclass - rodzaj zatrudnienia<br>\n",
    "- fnlwgt - Final Weight - sampling weight - waga próbki pokazująca jaką cześć populacji reprezentuje dana obserwacja<br>\n",
    "- Education - poziom edukacji<br>\n",
    "- Education Number of Years - edukacja numerycznie<br>\n",
    "- Marital-status - stan cywilny<br>\n",
    "- Occupation - zatrudnienie<br>\n",
    "- Relationship - typ relacji<br>\n",
    "- Race - rasa/kolor skóry<br>\n",
    "- Sex - płeć<br>\n",
    "- Capital-gain - uzyskane zyski ze źródeł innych niż pensja<br>\n",
    "- Capital-loss - straty kapitału<br>\n",
    "- Hours-per-week - liczba godziń przepracowanych w tygodniu<br>\n",
    "- Native-country - kraj pochodzenia<br>\n",
    "<br>\n",
    "Oraz zmienna celu, czyli kolumna 50k+, która pokazuje czy osoba zarabia więcej czy mniej niż 50k USD w ciągu roku. Zmienna ta przyjmuje 2 wartości (<=50k dla osób zarabiających nie więcej niż 50k $ rocznie oraz >50k dla osób zarabiających powyżej 50 tysięcy dolarów rocznie). Zmienna celu przyjmuje dwie wartości co powoduje, że jej predykcja jest zadaniem klasyfikacji binarnej. "
   ]
  },
  {
   "cell_type": "code",
   "execution_count": 56,
   "metadata": {
    "ExecuteTime": {
     "end_time": "2021-01-07T17:15:00.005580Z",
     "start_time": "2021-01-07T17:14:59.988588Z"
    }
   },
   "outputs": [],
   "source": [
    "import pandas as pd\n",
    "import numpy as np"
   ]
  },
  {
   "cell_type": "code",
   "execution_count": 57,
   "metadata": {
    "ExecuteTime": {
     "end_time": "2021-01-07T17:15:00.021571Z",
     "start_time": "2021-01-07T17:15:00.009578Z"
    }
   },
   "outputs": [],
   "source": [
    "import matplotlib.pyplot as plt\n",
    "import seaborn as sns"
   ]
  },
  {
   "cell_type": "code",
   "execution_count": 58,
   "metadata": {
    "ExecuteTime": {
     "end_time": "2021-01-07T17:15:00.036577Z",
     "start_time": "2021-01-07T17:15:00.024570Z"
    }
   },
   "outputs": [],
   "source": [
    "%matplotlib inline"
   ]
  },
  {
   "cell_type": "markdown",
   "metadata": {},
   "source": [
    "# WCZYTYWANIE DANYCH ORAZ UZUPEŁNIANIE BRAKUJĄCYCH DANYCH"
   ]
  },
  {
   "cell_type": "code",
   "execution_count": 59,
   "metadata": {
    "ExecuteTime": {
     "end_time": "2021-01-07T17:15:04.979960Z",
     "start_time": "2021-01-07T17:15:00.038575Z"
    }
   },
   "outputs": [],
   "source": [
    "df = pd.read_csv('http://archive.ics.uci.edu/ml/machine-learning-databases/adult/adult.data', header = None, delimiter=' *, *', engine='python')\n",
    "df_test = pd.read_csv('http://archive.ics.uci.edu/ml/machine-learning-databases/adult/adult.test', skiprows = 1, delimiter=' *, *', engine='python')"
   ]
  },
  {
   "cell_type": "code",
   "execution_count": 60,
   "metadata": {
    "ExecuteTime": {
     "end_time": "2021-01-07T17:15:04.995838Z",
     "start_time": "2021-01-07T17:15:04.981963Z"
    }
   },
   "outputs": [],
   "source": [
    "col_names = ['age','workclass','fnlwgt','education','education-num','marital-status','occupation','relationship',\n",
    "             'race','sex','capital-gain','capital-loss','hours-per-week','native-country','50k+']"
   ]
  },
  {
   "cell_type": "code",
   "execution_count": 61,
   "metadata": {
    "ExecuteTime": {
     "end_time": "2021-01-07T17:15:05.025800Z",
     "start_time": "2021-01-07T17:15:04.997839Z"
    }
   },
   "outputs": [],
   "source": [
    "df.columns = col_names\n",
    "df_test.columns = col_names"
   ]
  },
  {
   "cell_type": "code",
   "execution_count": 62,
   "metadata": {
    "ExecuteTime": {
     "end_time": "2021-01-07T17:15:05.056732Z",
     "start_time": "2021-01-07T17:15:05.027732Z"
    }
   },
   "outputs": [
    {
     "data": {
      "text/html": [
       "<div>\n",
       "<style scoped>\n",
       "    .dataframe tbody tr th:only-of-type {\n",
       "        vertical-align: middle;\n",
       "    }\n",
       "\n",
       "    .dataframe tbody tr th {\n",
       "        vertical-align: top;\n",
       "    }\n",
       "\n",
       "    .dataframe thead th {\n",
       "        text-align: right;\n",
       "    }\n",
       "</style>\n",
       "<table border=\"1\" class=\"dataframe\">\n",
       "  <thead>\n",
       "    <tr style=\"text-align: right;\">\n",
       "      <th></th>\n",
       "      <th>age</th>\n",
       "      <th>workclass</th>\n",
       "      <th>fnlwgt</th>\n",
       "      <th>education</th>\n",
       "      <th>education-num</th>\n",
       "      <th>marital-status</th>\n",
       "      <th>occupation</th>\n",
       "      <th>relationship</th>\n",
       "      <th>race</th>\n",
       "      <th>sex</th>\n",
       "      <th>capital-gain</th>\n",
       "      <th>capital-loss</th>\n",
       "      <th>hours-per-week</th>\n",
       "      <th>native-country</th>\n",
       "      <th>50k+</th>\n",
       "    </tr>\n",
       "  </thead>\n",
       "  <tbody>\n",
       "    <tr>\n",
       "      <th>0</th>\n",
       "      <td>39</td>\n",
       "      <td>State-gov</td>\n",
       "      <td>77516</td>\n",
       "      <td>Bachelors</td>\n",
       "      <td>13</td>\n",
       "      <td>Never-married</td>\n",
       "      <td>Adm-clerical</td>\n",
       "      <td>Not-in-family</td>\n",
       "      <td>White</td>\n",
       "      <td>Male</td>\n",
       "      <td>2174</td>\n",
       "      <td>0</td>\n",
       "      <td>40</td>\n",
       "      <td>United-States</td>\n",
       "      <td>&lt;=50K</td>\n",
       "    </tr>\n",
       "    <tr>\n",
       "      <th>1</th>\n",
       "      <td>50</td>\n",
       "      <td>Self-emp-not-inc</td>\n",
       "      <td>83311</td>\n",
       "      <td>Bachelors</td>\n",
       "      <td>13</td>\n",
       "      <td>Married-civ-spouse</td>\n",
       "      <td>Exec-managerial</td>\n",
       "      <td>Husband</td>\n",
       "      <td>White</td>\n",
       "      <td>Male</td>\n",
       "      <td>0</td>\n",
       "      <td>0</td>\n",
       "      <td>13</td>\n",
       "      <td>United-States</td>\n",
       "      <td>&lt;=50K</td>\n",
       "    </tr>\n",
       "    <tr>\n",
       "      <th>2</th>\n",
       "      <td>38</td>\n",
       "      <td>Private</td>\n",
       "      <td>215646</td>\n",
       "      <td>HS-grad</td>\n",
       "      <td>9</td>\n",
       "      <td>Divorced</td>\n",
       "      <td>Handlers-cleaners</td>\n",
       "      <td>Not-in-family</td>\n",
       "      <td>White</td>\n",
       "      <td>Male</td>\n",
       "      <td>0</td>\n",
       "      <td>0</td>\n",
       "      <td>40</td>\n",
       "      <td>United-States</td>\n",
       "      <td>&lt;=50K</td>\n",
       "    </tr>\n",
       "    <tr>\n",
       "      <th>3</th>\n",
       "      <td>53</td>\n",
       "      <td>Private</td>\n",
       "      <td>234721</td>\n",
       "      <td>11th</td>\n",
       "      <td>7</td>\n",
       "      <td>Married-civ-spouse</td>\n",
       "      <td>Handlers-cleaners</td>\n",
       "      <td>Husband</td>\n",
       "      <td>Black</td>\n",
       "      <td>Male</td>\n",
       "      <td>0</td>\n",
       "      <td>0</td>\n",
       "      <td>40</td>\n",
       "      <td>United-States</td>\n",
       "      <td>&lt;=50K</td>\n",
       "    </tr>\n",
       "    <tr>\n",
       "      <th>4</th>\n",
       "      <td>28</td>\n",
       "      <td>Private</td>\n",
       "      <td>338409</td>\n",
       "      <td>Bachelors</td>\n",
       "      <td>13</td>\n",
       "      <td>Married-civ-spouse</td>\n",
       "      <td>Prof-specialty</td>\n",
       "      <td>Wife</td>\n",
       "      <td>Black</td>\n",
       "      <td>Female</td>\n",
       "      <td>0</td>\n",
       "      <td>0</td>\n",
       "      <td>40</td>\n",
       "      <td>Cuba</td>\n",
       "      <td>&lt;=50K</td>\n",
       "    </tr>\n",
       "  </tbody>\n",
       "</table>\n",
       "</div>"
      ],
      "text/plain": [
       "   age         workclass  fnlwgt  education  education-num  \\\n",
       "0   39         State-gov   77516  Bachelors             13   \n",
       "1   50  Self-emp-not-inc   83311  Bachelors             13   \n",
       "2   38           Private  215646    HS-grad              9   \n",
       "3   53           Private  234721       11th              7   \n",
       "4   28           Private  338409  Bachelors             13   \n",
       "\n",
       "       marital-status         occupation   relationship   race     sex  \\\n",
       "0       Never-married       Adm-clerical  Not-in-family  White    Male   \n",
       "1  Married-civ-spouse    Exec-managerial        Husband  White    Male   \n",
       "2            Divorced  Handlers-cleaners  Not-in-family  White    Male   \n",
       "3  Married-civ-spouse  Handlers-cleaners        Husband  Black    Male   \n",
       "4  Married-civ-spouse     Prof-specialty           Wife  Black  Female   \n",
       "\n",
       "   capital-gain  capital-loss  hours-per-week native-country   50k+  \n",
       "0          2174             0              40  United-States  <=50K  \n",
       "1             0             0              13  United-States  <=50K  \n",
       "2             0             0              40  United-States  <=50K  \n",
       "3             0             0              40  United-States  <=50K  \n",
       "4             0             0              40           Cuba  <=50K  "
      ]
     },
     "execution_count": 62,
     "metadata": {},
     "output_type": "execute_result"
    }
   ],
   "source": [
    "df.head()"
   ]
  },
  {
   "cell_type": "code",
   "execution_count": 63,
   "metadata": {
    "ExecuteTime": {
     "end_time": "2021-01-07T17:15:05.104704Z",
     "start_time": "2021-01-07T17:15:05.060713Z"
    }
   },
   "outputs": [
    {
     "data": {
      "text/html": [
       "<div>\n",
       "<style scoped>\n",
       "    .dataframe tbody tr th:only-of-type {\n",
       "        vertical-align: middle;\n",
       "    }\n",
       "\n",
       "    .dataframe tbody tr th {\n",
       "        vertical-align: top;\n",
       "    }\n",
       "\n",
       "    .dataframe thead th {\n",
       "        text-align: right;\n",
       "    }\n",
       "</style>\n",
       "<table border=\"1\" class=\"dataframe\">\n",
       "  <thead>\n",
       "    <tr style=\"text-align: right;\">\n",
       "      <th></th>\n",
       "      <th>age</th>\n",
       "      <th>fnlwgt</th>\n",
       "      <th>education-num</th>\n",
       "      <th>capital-gain</th>\n",
       "      <th>capital-loss</th>\n",
       "      <th>hours-per-week</th>\n",
       "    </tr>\n",
       "  </thead>\n",
       "  <tbody>\n",
       "    <tr>\n",
       "      <th>count</th>\n",
       "      <td>32561.000000</td>\n",
       "      <td>3.256100e+04</td>\n",
       "      <td>32561.000000</td>\n",
       "      <td>32561.000000</td>\n",
       "      <td>32561.000000</td>\n",
       "      <td>32561.000000</td>\n",
       "    </tr>\n",
       "    <tr>\n",
       "      <th>mean</th>\n",
       "      <td>38.581647</td>\n",
       "      <td>1.897784e+05</td>\n",
       "      <td>10.080679</td>\n",
       "      <td>1077.648844</td>\n",
       "      <td>87.303830</td>\n",
       "      <td>40.437456</td>\n",
       "    </tr>\n",
       "    <tr>\n",
       "      <th>std</th>\n",
       "      <td>13.640433</td>\n",
       "      <td>1.055500e+05</td>\n",
       "      <td>2.572720</td>\n",
       "      <td>7385.292085</td>\n",
       "      <td>402.960219</td>\n",
       "      <td>12.347429</td>\n",
       "    </tr>\n",
       "    <tr>\n",
       "      <th>min</th>\n",
       "      <td>17.000000</td>\n",
       "      <td>1.228500e+04</td>\n",
       "      <td>1.000000</td>\n",
       "      <td>0.000000</td>\n",
       "      <td>0.000000</td>\n",
       "      <td>1.000000</td>\n",
       "    </tr>\n",
       "    <tr>\n",
       "      <th>25%</th>\n",
       "      <td>28.000000</td>\n",
       "      <td>1.178270e+05</td>\n",
       "      <td>9.000000</td>\n",
       "      <td>0.000000</td>\n",
       "      <td>0.000000</td>\n",
       "      <td>40.000000</td>\n",
       "    </tr>\n",
       "    <tr>\n",
       "      <th>50%</th>\n",
       "      <td>37.000000</td>\n",
       "      <td>1.783560e+05</td>\n",
       "      <td>10.000000</td>\n",
       "      <td>0.000000</td>\n",
       "      <td>0.000000</td>\n",
       "      <td>40.000000</td>\n",
       "    </tr>\n",
       "    <tr>\n",
       "      <th>75%</th>\n",
       "      <td>48.000000</td>\n",
       "      <td>2.370510e+05</td>\n",
       "      <td>12.000000</td>\n",
       "      <td>0.000000</td>\n",
       "      <td>0.000000</td>\n",
       "      <td>45.000000</td>\n",
       "    </tr>\n",
       "    <tr>\n",
       "      <th>max</th>\n",
       "      <td>90.000000</td>\n",
       "      <td>1.484705e+06</td>\n",
       "      <td>16.000000</td>\n",
       "      <td>99999.000000</td>\n",
       "      <td>4356.000000</td>\n",
       "      <td>99.000000</td>\n",
       "    </tr>\n",
       "  </tbody>\n",
       "</table>\n",
       "</div>"
      ],
      "text/plain": [
       "                age        fnlwgt  education-num  capital-gain  capital-loss  \\\n",
       "count  32561.000000  3.256100e+04   32561.000000  32561.000000  32561.000000   \n",
       "mean      38.581647  1.897784e+05      10.080679   1077.648844     87.303830   \n",
       "std       13.640433  1.055500e+05       2.572720   7385.292085    402.960219   \n",
       "min       17.000000  1.228500e+04       1.000000      0.000000      0.000000   \n",
       "25%       28.000000  1.178270e+05       9.000000      0.000000      0.000000   \n",
       "50%       37.000000  1.783560e+05      10.000000      0.000000      0.000000   \n",
       "75%       48.000000  2.370510e+05      12.000000      0.000000      0.000000   \n",
       "max       90.000000  1.484705e+06      16.000000  99999.000000   4356.000000   \n",
       "\n",
       "       hours-per-week  \n",
       "count    32561.000000  \n",
       "mean        40.437456  \n",
       "std         12.347429  \n",
       "min          1.000000  \n",
       "25%         40.000000  \n",
       "50%         40.000000  \n",
       "75%         45.000000  \n",
       "max         99.000000  "
      ]
     },
     "execution_count": 63,
     "metadata": {},
     "output_type": "execute_result"
    }
   ],
   "source": [
    "df.describe()"
   ]
  },
  {
   "cell_type": "code",
   "execution_count": 64,
   "metadata": {
    "ExecuteTime": {
     "end_time": "2021-01-07T17:15:05.136715Z",
     "start_time": "2021-01-07T17:15:05.107690Z"
    }
   },
   "outputs": [
    {
     "name": "stdout",
     "output_type": "stream",
     "text": [
      "<class 'pandas.core.frame.DataFrame'>\n",
      "RangeIndex: 32561 entries, 0 to 32560\n",
      "Data columns (total 15 columns):\n",
      " #   Column          Non-Null Count  Dtype \n",
      "---  ------          --------------  ----- \n",
      " 0   age             32561 non-null  int64 \n",
      " 1   workclass       32561 non-null  object\n",
      " 2   fnlwgt          32561 non-null  int64 \n",
      " 3   education       32561 non-null  object\n",
      " 4   education-num   32561 non-null  int64 \n",
      " 5   marital-status  32561 non-null  object\n",
      " 6   occupation      32561 non-null  object\n",
      " 7   relationship    32561 non-null  object\n",
      " 8   race            32561 non-null  object\n",
      " 9   sex             32561 non-null  object\n",
      " 10  capital-gain    32561 non-null  int64 \n",
      " 11  capital-loss    32561 non-null  int64 \n",
      " 12  hours-per-week  32561 non-null  int64 \n",
      " 13  native-country  32561 non-null  object\n",
      " 14  50k+            32561 non-null  object\n",
      "dtypes: int64(6), object(9)\n",
      "memory usage: 3.7+ MB\n"
     ]
    }
   ],
   "source": [
    "df.info()"
   ]
  },
  {
   "cell_type": "code",
   "execution_count": 65,
   "metadata": {
    "ExecuteTime": {
     "end_time": "2021-01-07T17:15:05.168534Z",
     "start_time": "2021-01-07T17:15:05.138668Z"
    }
   },
   "outputs": [
    {
     "data": {
      "text/plain": [
       "age               0\n",
       "workclass         0\n",
       "fnlwgt            0\n",
       "education         0\n",
       "education-num     0\n",
       "marital-status    0\n",
       "occupation        0\n",
       "relationship      0\n",
       "race              0\n",
       "sex               0\n",
       "capital-gain      0\n",
       "capital-loss      0\n",
       "hours-per-week    0\n",
       "native-country    0\n",
       "50k+              0\n",
       "dtype: int64"
      ]
     },
     "execution_count": 65,
     "metadata": {},
     "output_type": "execute_result"
    }
   ],
   "source": [
    "df.isna().sum()"
   ]
  },
  {
   "cell_type": "code",
   "execution_count": 66,
   "metadata": {
    "ExecuteTime": {
     "end_time": "2021-01-07T17:15:05.213732Z",
     "start_time": "2021-01-07T17:15:05.170552Z"
    }
   },
   "outputs": [
    {
     "name": "stdout",
     "output_type": "stream",
     "text": [
      "AGE [39 50 38 53 28 37 49 52 31 42 30 23 32 40 34 25 43 54 35 59 56 19 20 45\n",
      " 22 48 21 24 57 44 41 29 18 47 46 36 79 27 67 33 76 17 55 61 70 64 71 68\n",
      " 66 51 58 26 60 90 75 65 77 62 63 80 72 74 69 73 81 78 88 82 83 84 85 86\n",
      " 87]\n",
      "WORKCLASS ['State-gov' 'Self-emp-not-inc' 'Private' 'Federal-gov' 'Local-gov' '?'\n",
      " 'Self-emp-inc' 'Without-pay' 'Never-worked']\n",
      "FNLWGT [ 77516  83311 215646 ...  34066  84661 257302]\n",
      "EDUCATION ['Bachelors' 'HS-grad' '11th' 'Masters' '9th' 'Some-college' 'Assoc-acdm'\n",
      " 'Assoc-voc' '7th-8th' 'Doctorate' 'Prof-school' '5th-6th' '10th'\n",
      " '1st-4th' 'Preschool' '12th']\n",
      "EDUCATION-NUM [13  9  7 14  5 10 12 11  4 16 15  3  6  2  1  8]\n",
      "MARITAL-STATUS ['Never-married' 'Married-civ-spouse' 'Divorced' 'Married-spouse-absent'\n",
      " 'Separated' 'Married-AF-spouse' 'Widowed']\n",
      "OCCUPATION ['Adm-clerical' 'Exec-managerial' 'Handlers-cleaners' 'Prof-specialty'\n",
      " 'Other-service' 'Sales' 'Craft-repair' 'Transport-moving'\n",
      " 'Farming-fishing' 'Machine-op-inspct' 'Tech-support' '?'\n",
      " 'Protective-serv' 'Armed-Forces' 'Priv-house-serv']\n",
      "RELATIONSHIP ['Not-in-family' 'Husband' 'Wife' 'Own-child' 'Unmarried' 'Other-relative']\n",
      "RACE ['White' 'Black' 'Asian-Pac-Islander' 'Amer-Indian-Eskimo' 'Other']\n",
      "SEX ['Male' 'Female']\n",
      "CAPITAL-GAIN [ 2174     0 14084  5178  5013  2407 14344 15024  7688 34095  4064  4386\n",
      "  7298  1409  3674  1055  3464  2050  2176   594 20051  6849  4101  1111\n",
      "  8614  3411  2597 25236  4650  9386  2463  3103 10605  2964  3325  2580\n",
      "  3471  4865 99999  6514  1471  2329  2105  2885 25124 10520  2202  2961\n",
      " 27828  6767  2228  1506 13550  2635  5556  4787  3781  3137  3818  3942\n",
      "   914   401  2829  2977  4934  2062  2354  5455 15020  1424  3273 22040\n",
      "  4416  3908 10566   991  4931  1086  7430  6497   114  7896  2346  3418\n",
      "  3432  2907  1151  2414  2290 15831 41310  4508  2538  3456  6418  1848\n",
      "  3887  5721  9562  1455  2036  1831 11678  2936  2993  7443  6360  1797\n",
      "  1173  4687  6723  2009  6097  2653  1639 18481  7978  2387  5060]\n",
      "CAPITAL-LOSS [   0 2042 1408 1902 1573 1887 1719 1762 1564 2179 1816 1980 1977 1876\n",
      " 1340 2206 1741 1485 2339 2415 1380 1721 2051 2377 1669 2352 1672  653\n",
      " 2392 1504 2001 1590 1651 1628 1848 1740 2002 1579 2258 1602  419 2547\n",
      " 2174 2205 1726 2444 1138 2238  625  213 1539  880 1668 1092 1594 3004\n",
      " 2231 1844  810 2824 2559 2057 1974  974 2149 1825 1735 1258 2129 2603\n",
      " 2282  323 4356 2246 1617 1648 2489 3770 1755 3683 2267 2080 2457  155\n",
      " 3900 2201 1944 2467 2163 2754 2472 1411]\n",
      "HOURS-PER-WEEK [40 13 16 45 50 80 30 35 60 20 52 44 15 25 38 43 55 48 58 32 70  2 22 56\n",
      " 41 28 36 24 46 42 12 65  1 10 34 75 98 33 54  8  6 64 19 18 72  5  9 47\n",
      " 37 21 26 14  4 59  7 99 53 39 62 57 78 90 66 11 49 84  3 17 68 27 85 31\n",
      " 51 77 63 23 87 88 73 89 97 94 29 96 67 82 86 91 81 76 92 61 74 95]\n",
      "NATIVE-COUNTRY ['United-States' 'Cuba' 'Jamaica' 'India' '?' 'Mexico' 'South'\n",
      " 'Puerto-Rico' 'Honduras' 'England' 'Canada' 'Germany' 'Iran'\n",
      " 'Philippines' 'Italy' 'Poland' 'Columbia' 'Cambodia' 'Thailand' 'Ecuador'\n",
      " 'Laos' 'Taiwan' 'Haiti' 'Portugal' 'Dominican-Republic' 'El-Salvador'\n",
      " 'France' 'Guatemala' 'China' 'Japan' 'Yugoslavia' 'Peru'\n",
      " 'Outlying-US(Guam-USVI-etc)' 'Scotland' 'Trinadad&Tobago' 'Greece'\n",
      " 'Nicaragua' 'Vietnam' 'Hong' 'Ireland' 'Hungary' 'Holand-Netherlands']\n",
      "50K+ ['<=50K' '>50K']\n"
     ]
    }
   ],
   "source": [
    "for col in col_names:\n",
    "    print(col.upper(), df[col].unique())"
   ]
  },
  {
   "cell_type": "markdown",
   "metadata": {},
   "source": [
    "***\n",
    "Brakujące dane zostały oznaczone za pomocą <font color=blue>'?'</font><br>\n",
    "Następnie sprawdzono ile danych brakuje w konkretnych kolumnach oraz czy braki tych danych znajdują się <br>\n",
    "w tych samych obserwacjach\n",
    "***"
   ]
  },
  {
   "cell_type": "code",
   "execution_count": 67,
   "metadata": {
    "ExecuteTime": {
     "end_time": "2021-01-07T17:15:05.276826Z",
     "start_time": "2021-01-07T17:15:05.215737Z"
    }
   },
   "outputs": [
    {
     "name": "stderr",
     "output_type": "stream",
     "text": [
      "C:\\Users\\Tomasz\\anaconda3\\lib\\site-packages\\pandas\\core\\ops\\array_ops.py:253: FutureWarning: elementwise comparison failed; returning scalar instead, but in the future will perform elementwise comparison\n",
      "  res_values = method(rvalues)\n"
     ]
    },
    {
     "data": {
      "text/plain": [
       "age                  0\n",
       "workclass         1836\n",
       "fnlwgt               0\n",
       "education            0\n",
       "education-num        0\n",
       "marital-status       0\n",
       "occupation        1843\n",
       "relationship         0\n",
       "race                 0\n",
       "sex                  0\n",
       "capital-gain         0\n",
       "capital-loss         0\n",
       "hours-per-week       0\n",
       "native-country     583\n",
       "50k+                 0\n",
       "dtype: int64"
      ]
     },
     "execution_count": 67,
     "metadata": {},
     "output_type": "execute_result"
    }
   ],
   "source": [
    "df[df=='?'].count()"
   ]
  },
  {
   "cell_type": "code",
   "execution_count": 68,
   "metadata": {
    "ExecuteTime": {
     "end_time": "2021-01-07T17:15:05.306763Z",
     "start_time": "2021-01-07T17:15:05.278794Z"
    }
   },
   "outputs": [
    {
     "data": {
      "text/plain": [
       "1843"
      ]
     },
     "execution_count": 68,
     "metadata": {},
     "output_type": "execute_result"
    }
   ],
   "source": [
    "df_na = df[(df['workclass']=='?') | (df['occupation']=='?')]\n",
    "len(df_na)"
   ]
  },
  {
   "cell_type": "code",
   "execution_count": 69,
   "metadata": {
    "ExecuteTime": {
     "end_time": "2021-01-07T17:15:05.338636Z",
     "start_time": "2021-01-07T17:15:05.308781Z"
    }
   },
   "outputs": [
    {
     "data": {
      "text/plain": [
       "2399"
      ]
     },
     "execution_count": 69,
     "metadata": {},
     "output_type": "execute_result"
    }
   ],
   "source": [
    "df_na = df[(df['workclass']=='?') | (df['occupation']=='?') | (df['native-country']=='?')]\n",
    "len(df_na)"
   ]
  },
  {
   "cell_type": "markdown",
   "metadata": {},
   "source": [
    "***\n",
    "Zdecydowano na uzupełnienie brakujących danych za pomocą poprzedniej obserwacji (ffill).<br>\n",
    "W celu zweryfikowania czy po imputacji brakujących danych znacząco nie zmienił się udział<br>\n",
    "wybranych kategorii, porównano udziały procentowe w modyfikowanych kolumnach przed i po zabiegu.\n",
    "***"
   ]
  },
  {
   "cell_type": "code",
   "execution_count": 70,
   "metadata": {
    "ExecuteTime": {
     "end_time": "2021-01-07T17:15:05.368970Z",
     "start_time": "2021-01-07T17:15:05.340904Z"
    }
   },
   "outputs": [],
   "source": [
    "df_no_nan = df[(df['workclass']!='?') & (df['occupation']!='?') & (df['native-country']!='?')]"
   ]
  },
  {
   "cell_type": "code",
   "execution_count": 71,
   "metadata": {
    "ExecuteTime": {
     "end_time": "2021-01-07T17:15:05.384939Z",
     "start_time": "2021-01-07T17:15:05.370963Z"
    }
   },
   "outputs": [
    {
     "data": {
      "text/plain": [
       "Private             0.738877\n",
       "Self-emp-not-inc    0.082853\n",
       "Local-gov           0.068530\n",
       "State-gov           0.042404\n",
       "Self-emp-inc        0.035608\n",
       "Federal-gov         0.031265\n",
       "Without-pay         0.000464\n",
       "Name: workclass, dtype: float64"
      ]
     },
     "execution_count": 71,
     "metadata": {},
     "output_type": "execute_result"
    }
   ],
   "source": [
    "df_no_nan['workclass'].value_counts(normalize=True)"
   ]
  },
  {
   "cell_type": "code",
   "execution_count": 72,
   "metadata": {
    "ExecuteTime": {
     "end_time": "2021-01-07T17:15:05.416632Z",
     "start_time": "2021-01-07T17:15:05.386940Z"
    }
   },
   "outputs": [
    {
     "data": {
      "text/plain": [
       "Prof-specialty       0.133877\n",
       "Craft-repair         0.133612\n",
       "Exec-managerial      0.132352\n",
       "Adm-clerical         0.123367\n",
       "Sales                0.118825\n",
       "Other-service        0.106492\n",
       "Machine-op-inspct    0.065181\n",
       "Transport-moving     0.052119\n",
       "Handlers-cleaners    0.044758\n",
       "Farming-fishing      0.032790\n",
       "Tech-support         0.030237\n",
       "Protective-serv      0.021351\n",
       "Priv-house-serv      0.004741\n",
       "Armed-Forces         0.000298\n",
       "Name: occupation, dtype: float64"
      ]
     },
     "execution_count": 72,
     "metadata": {},
     "output_type": "execute_result"
    }
   ],
   "source": [
    "df_no_nan['occupation'].value_counts(normalize=True)"
   ]
  },
  {
   "cell_type": "code",
   "execution_count": 73,
   "metadata": {
    "ExecuteTime": {
     "end_time": "2021-01-07T17:15:05.432576Z",
     "start_time": "2021-01-07T17:15:05.418585Z"
    }
   },
   "outputs": [
    {
     "data": {
      "text/plain": [
       "United-States    0.911876\n",
       "Mexico           0.020224\n",
       "Philippines      0.006233\n",
       "Germany          0.004244\n",
       "Puerto-Rico      0.003614\n",
       "Name: native-country, dtype: float64"
      ]
     },
     "execution_count": 73,
     "metadata": {},
     "output_type": "execute_result"
    }
   ],
   "source": [
    "df_no_nan['native-country'].value_counts(normalize=True).head(5)"
   ]
  },
  {
   "cell_type": "markdown",
   "metadata": {},
   "source": [
    "***\n",
    "Usuwanie duplikatów i uzupełnianie brakujących danych za pomocą poprzedniej obserwacji.\n",
    "***"
   ]
  },
  {
   "cell_type": "code",
   "execution_count": 74,
   "metadata": {
    "ExecuteTime": {
     "end_time": "2021-01-07T17:15:05.510032Z",
     "start_time": "2021-01-07T17:15:05.434579Z"
    }
   },
   "outputs": [],
   "source": [
    "df.drop_duplicates(inplace = True)\n",
    "df.replace('?', np.nan, inplace = True)\n",
    "df.fillna(method = 'ffill', inplace = True)"
   ]
  },
  {
   "cell_type": "code",
   "execution_count": 75,
   "metadata": {
    "ExecuteTime": {
     "end_time": "2021-01-07T17:15:05.542016Z",
     "start_time": "2021-01-07T17:15:05.512036Z"
    }
   },
   "outputs": [
    {
     "data": {
      "text/plain": [
       "age               0\n",
       "workclass         0\n",
       "fnlwgt            0\n",
       "education         0\n",
       "education-num     0\n",
       "marital-status    0\n",
       "occupation        0\n",
       "relationship      0\n",
       "race              0\n",
       "sex               0\n",
       "capital-gain      0\n",
       "capital-loss      0\n",
       "hours-per-week    0\n",
       "native-country    0\n",
       "50k+              0\n",
       "dtype: int64"
      ]
     },
     "execution_count": 75,
     "metadata": {},
     "output_type": "execute_result"
    }
   ],
   "source": [
    "df.isna().sum()"
   ]
  },
  {
   "cell_type": "code",
   "execution_count": 76,
   "metadata": {
    "ExecuteTime": {
     "end_time": "2021-01-07T17:15:05.573997Z",
     "start_time": "2021-01-07T17:15:05.545015Z"
    }
   },
   "outputs": [
    {
     "data": {
      "text/plain": [
       "Private             0.739835\n",
       "Self-emp-not-inc    0.082552\n",
       "Local-gov           0.067738\n",
       "State-gov           0.042229\n",
       "Self-emp-inc        0.036174\n",
       "Federal-gov         0.030796\n",
       "Without-pay         0.000461\n",
       "Never-worked        0.000215\n",
       "Name: workclass, dtype: float64"
      ]
     },
     "execution_count": 76,
     "metadata": {},
     "output_type": "execute_result"
    }
   ],
   "source": [
    "df['workclass'].value_counts(normalize=True)"
   ]
  },
  {
   "cell_type": "code",
   "execution_count": 77,
   "metadata": {
    "ExecuteTime": {
     "end_time": "2021-01-07T17:15:05.604620Z",
     "start_time": "2021-01-07T17:15:05.576997Z"
    }
   },
   "outputs": [
    {
     "data": {
      "text/plain": [
       "Prof-specialty       0.134708\n",
       "Craft-repair         0.133940\n",
       "Exec-managerial      0.132618\n",
       "Adm-clerical         0.122322\n",
       "Sales                0.118726\n",
       "Other-service        0.106556\n",
       "Machine-op-inspct    0.065525\n",
       "Transport-moving     0.052340\n",
       "Handlers-cleaners    0.045179\n",
       "Farming-fishing      0.031841\n",
       "Tech-support         0.030120\n",
       "Protective-serv      0.020991\n",
       "Priv-house-serv      0.004825\n",
       "Armed-Forces         0.000307\n",
       "Name: occupation, dtype: float64"
      ]
     },
     "execution_count": 77,
     "metadata": {},
     "output_type": "execute_result"
    }
   ],
   "source": [
    "df['occupation'].value_counts(normalize=True)"
   ]
  },
  {
   "cell_type": "code",
   "execution_count": 78,
   "metadata": {
    "ExecuteTime": {
     "end_time": "2021-01-07T17:15:05.636071Z",
     "start_time": "2021-01-07T17:15:05.610570Z"
    }
   },
   "outputs": [
    {
     "data": {
      "text/plain": [
       "United-States    0.912069\n",
       "Mexico           0.020069\n",
       "Philippines      0.006147\n",
       "Germany          0.004334\n",
       "Canada           0.003811\n",
       "Name: native-country, dtype: float64"
      ]
     },
     "execution_count": 78,
     "metadata": {},
     "output_type": "execute_result"
    }
   ],
   "source": [
    "df['native-country'].value_counts(normalize=True).head(5)"
   ]
  },
  {
   "cell_type": "markdown",
   "metadata": {},
   "source": [
    "# Zmiana typu zmiennych\n",
    "\n",
    "W celach wykorzystania zbioru danych do budowania modelu klasyfikacji binarnej przeprowadzono <br>\n",
    "zmianę zmiennych słownych na liczbowe. W tym celu przypisano każdej unikalnej kategorii liczbę naturalną.<br>\n",
    "Rozpoczęto od wypisania wszystkich unikalnych wartości osiąganych w kolumnach typu 'object' (słownych)."
   ]
  },
  {
   "cell_type": "code",
   "execution_count": 79,
   "metadata": {
    "ExecuteTime": {
     "end_time": "2021-01-07T17:15:05.668053Z",
     "start_time": "2021-01-07T17:15:05.640073Z"
    }
   },
   "outputs": [
    {
     "name": "stdout",
     "output_type": "stream",
     "text": [
      "WORKCLASS ['State-gov' 'Self-emp-not-inc' 'Private' 'Federal-gov' 'Local-gov'\n",
      " 'Self-emp-inc' 'Without-pay' 'Never-worked']\n",
      "EDUCATION ['Bachelors' 'HS-grad' '11th' 'Masters' '9th' 'Some-college' 'Assoc-acdm'\n",
      " 'Assoc-voc' '7th-8th' 'Doctorate' 'Prof-school' '5th-6th' '10th'\n",
      " '1st-4th' 'Preschool' '12th']\n",
      "MARITAL-STATUS ['Never-married' 'Married-civ-spouse' 'Divorced' 'Married-spouse-absent'\n",
      " 'Separated' 'Married-AF-spouse' 'Widowed']\n",
      "OCCUPATION ['Adm-clerical' 'Exec-managerial' 'Handlers-cleaners' 'Prof-specialty'\n",
      " 'Other-service' 'Sales' 'Craft-repair' 'Transport-moving'\n",
      " 'Farming-fishing' 'Machine-op-inspct' 'Tech-support' 'Protective-serv'\n",
      " 'Armed-Forces' 'Priv-house-serv']\n",
      "RELATIONSHIP ['Not-in-family' 'Husband' 'Wife' 'Own-child' 'Unmarried' 'Other-relative']\n",
      "RACE ['White' 'Black' 'Asian-Pac-Islander' 'Amer-Indian-Eskimo' 'Other']\n",
      "SEX ['Male' 'Female']\n",
      "NATIVE-COUNTRY ['United-States' 'Cuba' 'Jamaica' 'India' 'Mexico' 'South' 'Puerto-Rico'\n",
      " 'Honduras' 'England' 'Canada' 'Germany' 'Iran' 'Philippines' 'Italy'\n",
      " 'Poland' 'Columbia' 'Cambodia' 'Thailand' 'Ecuador' 'Laos' 'Taiwan'\n",
      " 'Haiti' 'Portugal' 'Dominican-Republic' 'El-Salvador' 'France'\n",
      " 'Guatemala' 'China' 'Japan' 'Yugoslavia' 'Peru'\n",
      " 'Outlying-US(Guam-USVI-etc)' 'Scotland' 'Trinadad&Tobago' 'Greece'\n",
      " 'Nicaragua' 'Vietnam' 'Hong' 'Ireland' 'Hungary' 'Holand-Netherlands']\n",
      "50K+ ['<=50K' '>50K']\n"
     ]
    }
   ],
   "source": [
    "for col in col_names:\n",
    "    if df[col].dtype ==object:\n",
    "        print(col.upper(), df[col].unique())"
   ]
  },
  {
   "cell_type": "code",
   "execution_count": 80,
   "metadata": {
    "ExecuteTime": {
     "end_time": "2021-01-07T17:15:05.700047Z",
     "start_time": "2021-01-07T17:15:05.670052Z"
    }
   },
   "outputs": [
    {
     "name": "stdout",
     "output_type": "stream",
     "text": [
      "age 73\n",
      "workclass 8\n",
      "fnlwgt 21648\n",
      "education 16\n",
      "education-num 16\n",
      "marital-status 7\n",
      "occupation 14\n",
      "relationship 6\n",
      "race 5\n",
      "sex 2\n",
      "capital-gain 119\n",
      "capital-loss 92\n",
      "hours-per-week 94\n",
      "native-country 41\n",
      "50k+ 2\n"
     ]
    }
   ],
   "source": [
    "for col in col_names:\n",
    "    print(col, df[col].nunique())"
   ]
  },
  {
   "cell_type": "markdown",
   "metadata": {},
   "source": [
    "***\n",
    "Początkowo sprawdzono ile unikalnych wartości posiadają dane kolumny, by upewnić się, że proces mapowania<br>\n",
    "przebiegł pomyślnie. Poniższy kod zmienia wartości słowne na liczbowe w odpowiednich kolumnach. \n",
    "***"
   ]
  },
  {
   "cell_type": "code",
   "execution_count": 81,
   "metadata": {
    "ExecuteTime": {
     "end_time": "2021-01-07T17:15:05.778799Z",
     "start_time": "2021-01-07T17:15:05.702033Z"
    }
   },
   "outputs": [],
   "source": [
    "#sex\n",
    "df['sex'] = df['sex'].map({'Male': 0, 'Female': 1}).astype(int)\n",
    "\n",
    "#race\n",
    "df['race'] = df['race'].map({'Black': 0, 'Asian-Pac-Islander': 1,'Other': 2, 'White': 3, 'Amer-Indian-Eskimo': 4}).astype(int)\n",
    "\n",
    "#marital-status\n",
    "df['marital-status'] = df['marital-status'].map({'Married-spouse-absent': 0, 'Widowed': 1, 'Married-civ-spouse': 2, \n",
    "'Separated': 3, 'Divorced': 4,'Never-married': 5, 'Married-AF-spouse': 6}).astype(int)\n",
    "\n",
    "#workclass\n",
    "df['workclass'] = df['workclass'].map({'Self-emp-inc': 0, 'State-gov': 1,'Federal-gov': 2, 'Without-pay': 3, 'Local-gov': 4,\n",
    "                                       'Private': 5, 'Self-emp-not-inc': 6, 'Never-worked': 7}).astype(int)\n",
    "\n",
    "#education\n",
    "df['education'] = df['education'].map({'Some-college': 0, 'Preschool': 1, '5th-6th': 2, 'HS-grad': 3, 'Masters': 4, '12th': 5,\n",
    "   '7th-8th': 6, 'Prof-school': 7,'1st-4th': 8, 'Assoc-acdm': 9, 'Doctorate': 10, '11th': 11,\n",
    "    'Bachelors': 12, '10th': 13,'Assoc-voc': 14, '9th': 15}).astype(int)\n",
    "\n",
    "#occupation\n",
    "df['occupation'] = df['occupation'].map({ 'Farming-fishing': 1, 'Tech-support': 2, 'Adm-clerical': 3, 'Handlers-cleaners': 4, \n",
    " 'Prof-specialty': 5,'Machine-op-inspct': 6, 'Exec-managerial': 7,'Priv-house-serv': 8,'Craft-repair': 9,'Sales': 10, \n",
    "                    'Transport-moving': 11, 'Armed-Forces': 12, 'Other-service': 13,'Protective-serv':14}).astype(int)\n",
    "\n",
    "#relationship\n",
    "df['relationship'] = df['relationship'].map({'Not-in-family': 0, 'Wife': 1, 'Other-relative': 2, 'Unmarried': 3,'Husband': 4,\n",
    "                                             'Own-child': 5}).astype(int)\n",
    "\n",
    "#native-country\n",
    "df['native-country'] = df['native-country'].map({'United-States': 0, 'Cuba': 1, 'Jamaica': 2, 'India': 3, 'Mexico': 4,\n",
    "'South': 5, 'Puerto-Rico': 6, 'Honduras': 7, 'England': 8, 'Canada': 9, 'Germany': 10, 'Iran': 11, 'Philippines': 12,\n",
    "'Italy': 13, 'Poland': 14, 'Columbia': 15, 'Cambodia': 16, 'Thailand': 17, 'Ecuador': 18, 'Laos': 19, 'Taiwan': 20, \n",
    "'Haiti': 21, 'Portugal': 22, 'Dominican-Republic': 23, 'El-Salvador': 24, 'France': 25, 'Guatemala': 26, 'China': 27,\n",
    "'Japan': 28, 'Yugoslavia': 29, 'Peru': 30, 'Outlying-US(Guam-USVI-etc)': 31, 'Scotland': 32, 'Trinadad&Tobago': 33,\n",
    "'Greece': 34, 'Nicaragua': 35, 'Vietnam': 36, 'Hong': 37, 'Ireland': 38, 'Hungary': 39, 'Holand-Netherlands': 40}).astype(int)\n",
    "\n",
    "#50k+\n",
    "df['50k+'] = df['50k+'].map({'<=50K': 0, '>50K': 1}).astype(int)"
   ]
  },
  {
   "cell_type": "code",
   "execution_count": 82,
   "metadata": {
    "ExecuteTime": {
     "end_time": "2021-01-07T17:15:05.810248Z",
     "start_time": "2021-01-07T17:15:05.780803Z"
    }
   },
   "outputs": [
    {
     "name": "stdout",
     "output_type": "stream",
     "text": [
      "age 73\n",
      "workclass 8\n",
      "fnlwgt 21648\n",
      "education 16\n",
      "education-num 16\n",
      "marital-status 7\n",
      "occupation 14\n",
      "relationship 6\n",
      "race 5\n",
      "sex 2\n",
      "capital-gain 119\n",
      "capital-loss 92\n",
      "hours-per-week 94\n",
      "native-country 41\n",
      "50k+ 2\n"
     ]
    }
   ],
   "source": [
    "for col in col_names:\n",
    "    print(col, df[col].nunique())"
   ]
  },
  {
   "cell_type": "code",
   "execution_count": 83,
   "metadata": {
    "ExecuteTime": {
     "end_time": "2021-01-07T17:15:05.826257Z",
     "start_time": "2021-01-07T17:15:05.812266Z"
    }
   },
   "outputs": [
    {
     "data": {
      "text/plain": [
       "age               int64\n",
       "workclass         int32\n",
       "fnlwgt            int64\n",
       "education         int32\n",
       "education-num     int64\n",
       "marital-status    int32\n",
       "occupation        int32\n",
       "relationship      int32\n",
       "race              int32\n",
       "sex               int32\n",
       "capital-gain      int64\n",
       "capital-loss      int64\n",
       "hours-per-week    int64\n",
       "native-country    int32\n",
       "50k+              int32\n",
       "dtype: object"
      ]
     },
     "execution_count": 83,
     "metadata": {},
     "output_type": "execute_result"
    }
   ],
   "source": [
    "df.dtypes"
   ]
  },
  {
   "cell_type": "markdown",
   "metadata": {},
   "source": [
    "# EDA - Exploratory data analysis"
   ]
  },
  {
   "cell_type": "code",
   "execution_count": 84,
   "metadata": {
    "ExecuteTime": {
     "end_time": "2021-01-07T17:15:05.872884Z",
     "start_time": "2021-01-07T17:15:05.828243Z"
    }
   },
   "outputs": [
    {
     "data": {
      "text/html": [
       "<div>\n",
       "<style scoped>\n",
       "    .dataframe tbody tr th:only-of-type {\n",
       "        vertical-align: middle;\n",
       "    }\n",
       "\n",
       "    .dataframe tbody tr th {\n",
       "        vertical-align: top;\n",
       "    }\n",
       "\n",
       "    .dataframe thead th {\n",
       "        text-align: right;\n",
       "    }\n",
       "</style>\n",
       "<table border=\"1\" class=\"dataframe\">\n",
       "  <thead>\n",
       "    <tr style=\"text-align: right;\">\n",
       "      <th></th>\n",
       "      <th>age</th>\n",
       "      <th>workclass</th>\n",
       "      <th>fnlwgt</th>\n",
       "      <th>education</th>\n",
       "      <th>marital-status</th>\n",
       "      <th>occupation</th>\n",
       "      <th>relationship</th>\n",
       "      <th>race</th>\n",
       "      <th>sex</th>\n",
       "      <th>capital-gain</th>\n",
       "      <th>capital-loss</th>\n",
       "      <th>hours-per-week</th>\n",
       "      <th>native-country</th>\n",
       "      <th>50k+</th>\n",
       "    </tr>\n",
       "    <tr>\n",
       "      <th>education-num</th>\n",
       "      <th></th>\n",
       "      <th></th>\n",
       "      <th></th>\n",
       "      <th></th>\n",
       "      <th></th>\n",
       "      <th></th>\n",
       "      <th></th>\n",
       "      <th></th>\n",
       "      <th></th>\n",
       "      <th></th>\n",
       "      <th></th>\n",
       "      <th></th>\n",
       "      <th></th>\n",
       "      <th></th>\n",
       "    </tr>\n",
       "  </thead>\n",
       "  <tbody>\n",
       "    <tr>\n",
       "      <th>1</th>\n",
       "      <td>43.200000</td>\n",
       "      <td>4.840000</td>\n",
       "      <td>235739.800000</td>\n",
       "      <td>1.0</td>\n",
       "      <td>3.100000</td>\n",
       "      <td>7.420000</td>\n",
       "      <td>2.100000</td>\n",
       "      <td>2.420000</td>\n",
       "      <td>0.320000</td>\n",
       "      <td>916.360000</td>\n",
       "      <td>67.820000</td>\n",
       "      <td>36.380000</td>\n",
       "      <td>8.280000</td>\n",
       "      <td>0.000000</td>\n",
       "    </tr>\n",
       "    <tr>\n",
       "      <th>2</th>\n",
       "      <td>46.397590</td>\n",
       "      <td>4.921687</td>\n",
       "      <td>239824.795181</td>\n",
       "      <td>8.0</td>\n",
       "      <td>2.596386</td>\n",
       "      <td>7.891566</td>\n",
       "      <td>2.518072</td>\n",
       "      <td>2.620482</td>\n",
       "      <td>0.265060</td>\n",
       "      <td>127.391566</td>\n",
       "      <td>48.909639</td>\n",
       "      <td>38.234940</td>\n",
       "      <td>7.481928</td>\n",
       "      <td>0.036145</td>\n",
       "    </tr>\n",
       "    <tr>\n",
       "      <th>3</th>\n",
       "      <td>42.945783</td>\n",
       "      <td>4.873494</td>\n",
       "      <td>232425.174699</td>\n",
       "      <td>2.0</td>\n",
       "      <td>2.807229</td>\n",
       "      <td>7.683735</td>\n",
       "      <td>2.710843</td>\n",
       "      <td>2.668675</td>\n",
       "      <td>0.253012</td>\n",
       "      <td>176.551205</td>\n",
       "      <td>68.457831</td>\n",
       "      <td>38.849398</td>\n",
       "      <td>5.828313</td>\n",
       "      <td>0.048193</td>\n",
       "    </tr>\n",
       "    <tr>\n",
       "      <th>4</th>\n",
       "      <td>48.444961</td>\n",
       "      <td>4.871318</td>\n",
       "      <td>188322.291473</td>\n",
       "      <td>6.0</td>\n",
       "      <td>2.644961</td>\n",
       "      <td>7.772093</td>\n",
       "      <td>2.911628</td>\n",
       "      <td>2.693023</td>\n",
       "      <td>0.248062</td>\n",
       "      <td>234.302326</td>\n",
       "      <td>65.770543</td>\n",
       "      <td>39.365891</td>\n",
       "      <td>2.480620</td>\n",
       "      <td>0.062016</td>\n",
       "    </tr>\n",
       "    <tr>\n",
       "      <th>5</th>\n",
       "      <td>41.060311</td>\n",
       "      <td>4.848249</td>\n",
       "      <td>202485.066148</td>\n",
       "      <td>15.0</td>\n",
       "      <td>3.138132</td>\n",
       "      <td>8.243191</td>\n",
       "      <td>2.916342</td>\n",
       "      <td>2.439689</td>\n",
       "      <td>0.280156</td>\n",
       "      <td>342.089494</td>\n",
       "      <td>28.998054</td>\n",
       "      <td>38.044747</td>\n",
       "      <td>2.665370</td>\n",
       "      <td>0.052529</td>\n",
       "    </tr>\n",
       "    <tr>\n",
       "      <th>6</th>\n",
       "      <td>37.429796</td>\n",
       "      <td>4.816720</td>\n",
       "      <td>196832.465166</td>\n",
       "      <td>13.0</td>\n",
       "      <td>3.396570</td>\n",
       "      <td>8.448017</td>\n",
       "      <td>3.034298</td>\n",
       "      <td>2.551983</td>\n",
       "      <td>0.316184</td>\n",
       "      <td>404.574491</td>\n",
       "      <td>56.845659</td>\n",
       "      <td>37.052519</td>\n",
       "      <td>1.097535</td>\n",
       "      <td>0.066452</td>\n",
       "    </tr>\n",
       "    <tr>\n",
       "      <th>7</th>\n",
       "      <td>32.355745</td>\n",
       "      <td>4.841702</td>\n",
       "      <td>194928.077447</td>\n",
       "      <td>11.0</td>\n",
       "      <td>3.693617</td>\n",
       "      <td>8.432340</td>\n",
       "      <td>3.349787</td>\n",
       "      <td>2.577021</td>\n",
       "      <td>0.367660</td>\n",
       "      <td>215.097872</td>\n",
       "      <td>50.079149</td>\n",
       "      <td>33.925957</td>\n",
       "      <td>1.104681</td>\n",
       "      <td>0.051064</td>\n",
       "    </tr>\n",
       "    <tr>\n",
       "      <th>8</th>\n",
       "      <td>32.000000</td>\n",
       "      <td>4.757506</td>\n",
       "      <td>199097.508083</td>\n",
       "      <td>5.0</td>\n",
       "      <td>3.759815</td>\n",
       "      <td>8.233256</td>\n",
       "      <td>3.140878</td>\n",
       "      <td>2.452656</td>\n",
       "      <td>0.332564</td>\n",
       "      <td>284.087760</td>\n",
       "      <td>32.337182</td>\n",
       "      <td>35.780600</td>\n",
       "      <td>1.454965</td>\n",
       "      <td>0.076212</td>\n",
       "    </tr>\n",
       "    <tr>\n",
       "      <th>9</th>\n",
       "      <td>38.978178</td>\n",
       "      <td>4.704974</td>\n",
       "      <td>189542.362302</td>\n",
       "      <td>3.0</td>\n",
       "      <td>3.170574</td>\n",
       "      <td>7.738994</td>\n",
       "      <td>2.843530</td>\n",
       "      <td>2.625500</td>\n",
       "      <td>0.322851</td>\n",
       "      <td>577.184868</td>\n",
       "      <td>70.513627</td>\n",
       "      <td>40.574995</td>\n",
       "      <td>0.917000</td>\n",
       "      <td>0.159520</td>\n",
       "    </tr>\n",
       "    <tr>\n",
       "      <th>10</th>\n",
       "      <td>35.755836</td>\n",
       "      <td>4.548064</td>\n",
       "      <td>188793.849355</td>\n",
       "      <td>0.0</td>\n",
       "      <td>3.486542</td>\n",
       "      <td>7.372562</td>\n",
       "      <td>2.960725</td>\n",
       "      <td>2.640071</td>\n",
       "      <td>0.384784</td>\n",
       "      <td>599.564268</td>\n",
       "      <td>71.725625</td>\n",
       "      <td>38.868855</td>\n",
       "      <td>0.864323</td>\n",
       "      <td>0.190332</td>\n",
       "    </tr>\n",
       "    <tr>\n",
       "      <th>11</th>\n",
       "      <td>38.553546</td>\n",
       "      <td>4.649059</td>\n",
       "      <td>181936.016643</td>\n",
       "      <td>14.0</td>\n",
       "      <td>3.109262</td>\n",
       "      <td>6.945731</td>\n",
       "      <td>2.740232</td>\n",
       "      <td>2.711288</td>\n",
       "      <td>0.361795</td>\n",
       "      <td>715.051375</td>\n",
       "      <td>72.754703</td>\n",
       "      <td>41.610709</td>\n",
       "      <td>0.794501</td>\n",
       "      <td>0.261216</td>\n",
       "    </tr>\n",
       "    <tr>\n",
       "      <th>12</th>\n",
       "      <td>37.381443</td>\n",
       "      <td>4.498594</td>\n",
       "      <td>193424.093721</td>\n",
       "      <td>9.0</td>\n",
       "      <td>3.319588</td>\n",
       "      <td>6.925961</td>\n",
       "      <td>2.514527</td>\n",
       "      <td>2.644799</td>\n",
       "      <td>0.394564</td>\n",
       "      <td>640.399250</td>\n",
       "      <td>93.418932</td>\n",
       "      <td>40.504217</td>\n",
       "      <td>0.975633</td>\n",
       "      <td>0.248360</td>\n",
       "    </tr>\n",
       "    <tr>\n",
       "      <th>13</th>\n",
       "      <td>38.906594</td>\n",
       "      <td>4.396974</td>\n",
       "      <td>187999.912386</td>\n",
       "      <td>12.0</td>\n",
       "      <td>3.188306</td>\n",
       "      <td>6.658322</td>\n",
       "      <td>2.587708</td>\n",
       "      <td>2.704838</td>\n",
       "      <td>0.302260</td>\n",
       "      <td>1756.955726</td>\n",
       "      <td>118.394545</td>\n",
       "      <td>42.614048</td>\n",
       "      <td>1.220998</td>\n",
       "      <td>0.414908</td>\n",
       "    </tr>\n",
       "    <tr>\n",
       "      <th>14</th>\n",
       "      <td>44.059233</td>\n",
       "      <td>4.117886</td>\n",
       "      <td>179797.295006</td>\n",
       "      <td>4.0</td>\n",
       "      <td>2.943670</td>\n",
       "      <td>6.131243</td>\n",
       "      <td>2.544135</td>\n",
       "      <td>2.746806</td>\n",
       "      <td>0.311266</td>\n",
       "      <td>2564.051684</td>\n",
       "      <td>166.816492</td>\n",
       "      <td>43.832753</td>\n",
       "      <td>1.263066</td>\n",
       "      <td>0.556911</td>\n",
       "    </tr>\n",
       "    <tr>\n",
       "      <th>15</th>\n",
       "      <td>44.746528</td>\n",
       "      <td>4.097222</td>\n",
       "      <td>185663.706597</td>\n",
       "      <td>7.0</td>\n",
       "      <td>2.670139</td>\n",
       "      <td>5.427083</td>\n",
       "      <td>2.979167</td>\n",
       "      <td>2.776042</td>\n",
       "      <td>0.159722</td>\n",
       "      <td>10414.416667</td>\n",
       "      <td>231.203125</td>\n",
       "      <td>47.425347</td>\n",
       "      <td>1.178819</td>\n",
       "      <td>0.734375</td>\n",
       "    </tr>\n",
       "    <tr>\n",
       "      <th>16</th>\n",
       "      <td>47.702179</td>\n",
       "      <td>3.641646</td>\n",
       "      <td>186698.760291</td>\n",
       "      <td>10.0</td>\n",
       "      <td>2.656174</td>\n",
       "      <td>5.496368</td>\n",
       "      <td>2.874092</td>\n",
       "      <td>2.786925</td>\n",
       "      <td>0.208232</td>\n",
       "      <td>4770.145278</td>\n",
       "      <td>262.845036</td>\n",
       "      <td>46.973366</td>\n",
       "      <td>2.309927</td>\n",
       "      <td>0.740920</td>\n",
       "    </tr>\n",
       "  </tbody>\n",
       "</table>\n",
       "</div>"
      ],
      "text/plain": [
       "                     age  workclass         fnlwgt  education  marital-status  \\\n",
       "education-num                                                                   \n",
       "1              43.200000   4.840000  235739.800000        1.0        3.100000   \n",
       "2              46.397590   4.921687  239824.795181        8.0        2.596386   \n",
       "3              42.945783   4.873494  232425.174699        2.0        2.807229   \n",
       "4              48.444961   4.871318  188322.291473        6.0        2.644961   \n",
       "5              41.060311   4.848249  202485.066148       15.0        3.138132   \n",
       "6              37.429796   4.816720  196832.465166       13.0        3.396570   \n",
       "7              32.355745   4.841702  194928.077447       11.0        3.693617   \n",
       "8              32.000000   4.757506  199097.508083        5.0        3.759815   \n",
       "9              38.978178   4.704974  189542.362302        3.0        3.170574   \n",
       "10             35.755836   4.548064  188793.849355        0.0        3.486542   \n",
       "11             38.553546   4.649059  181936.016643       14.0        3.109262   \n",
       "12             37.381443   4.498594  193424.093721        9.0        3.319588   \n",
       "13             38.906594   4.396974  187999.912386       12.0        3.188306   \n",
       "14             44.059233   4.117886  179797.295006        4.0        2.943670   \n",
       "15             44.746528   4.097222  185663.706597        7.0        2.670139   \n",
       "16             47.702179   3.641646  186698.760291       10.0        2.656174   \n",
       "\n",
       "               occupation  relationship      race       sex  capital-gain  \\\n",
       "education-num                                                               \n",
       "1                7.420000      2.100000  2.420000  0.320000    916.360000   \n",
       "2                7.891566      2.518072  2.620482  0.265060    127.391566   \n",
       "3                7.683735      2.710843  2.668675  0.253012    176.551205   \n",
       "4                7.772093      2.911628  2.693023  0.248062    234.302326   \n",
       "5                8.243191      2.916342  2.439689  0.280156    342.089494   \n",
       "6                8.448017      3.034298  2.551983  0.316184    404.574491   \n",
       "7                8.432340      3.349787  2.577021  0.367660    215.097872   \n",
       "8                8.233256      3.140878  2.452656  0.332564    284.087760   \n",
       "9                7.738994      2.843530  2.625500  0.322851    577.184868   \n",
       "10               7.372562      2.960725  2.640071  0.384784    599.564268   \n",
       "11               6.945731      2.740232  2.711288  0.361795    715.051375   \n",
       "12               6.925961      2.514527  2.644799  0.394564    640.399250   \n",
       "13               6.658322      2.587708  2.704838  0.302260   1756.955726   \n",
       "14               6.131243      2.544135  2.746806  0.311266   2564.051684   \n",
       "15               5.427083      2.979167  2.776042  0.159722  10414.416667   \n",
       "16               5.496368      2.874092  2.786925  0.208232   4770.145278   \n",
       "\n",
       "               capital-loss  hours-per-week  native-country      50k+  \n",
       "education-num                                                          \n",
       "1                 67.820000       36.380000        8.280000  0.000000  \n",
       "2                 48.909639       38.234940        7.481928  0.036145  \n",
       "3                 68.457831       38.849398        5.828313  0.048193  \n",
       "4                 65.770543       39.365891        2.480620  0.062016  \n",
       "5                 28.998054       38.044747        2.665370  0.052529  \n",
       "6                 56.845659       37.052519        1.097535  0.066452  \n",
       "7                 50.079149       33.925957        1.104681  0.051064  \n",
       "8                 32.337182       35.780600        1.454965  0.076212  \n",
       "9                 70.513627       40.574995        0.917000  0.159520  \n",
       "10                71.725625       38.868855        0.864323  0.190332  \n",
       "11                72.754703       41.610709        0.794501  0.261216  \n",
       "12                93.418932       40.504217        0.975633  0.248360  \n",
       "13               118.394545       42.614048        1.220998  0.414908  \n",
       "14               166.816492       43.832753        1.263066  0.556911  \n",
       "15               231.203125       47.425347        1.178819  0.734375  \n",
       "16               262.845036       46.973366        2.309927  0.740920  "
      ]
     },
     "execution_count": 84,
     "metadata": {},
     "output_type": "execute_result"
    }
   ],
   "source": [
    "df.groupby('education-num').mean()"
   ]
  },
  {
   "cell_type": "code",
   "execution_count": 85,
   "metadata": {
    "ExecuteTime": {
     "end_time": "2021-01-07T17:15:05.904868Z",
     "start_time": "2021-01-07T17:15:05.875883Z"
    }
   },
   "outputs": [
    {
     "data": {
      "text/html": [
       "<div>\n",
       "<style scoped>\n",
       "    .dataframe tbody tr th:only-of-type {\n",
       "        vertical-align: middle;\n",
       "    }\n",
       "\n",
       "    .dataframe tbody tr th {\n",
       "        vertical-align: top;\n",
       "    }\n",
       "\n",
       "    .dataframe thead th {\n",
       "        text-align: right;\n",
       "    }\n",
       "</style>\n",
       "<table border=\"1\" class=\"dataframe\">\n",
       "  <thead>\n",
       "    <tr style=\"text-align: right;\">\n",
       "      <th></th>\n",
       "      <th>age</th>\n",
       "      <th>workclass</th>\n",
       "      <th>fnlwgt</th>\n",
       "      <th>education</th>\n",
       "      <th>education-num</th>\n",
       "      <th>marital-status</th>\n",
       "      <th>occupation</th>\n",
       "      <th>relationship</th>\n",
       "      <th>race</th>\n",
       "      <th>sex</th>\n",
       "      <th>capital-gain</th>\n",
       "      <th>capital-loss</th>\n",
       "      <th>hours-per-week</th>\n",
       "      <th>native-country</th>\n",
       "    </tr>\n",
       "    <tr>\n",
       "      <th>50k+</th>\n",
       "      <th></th>\n",
       "      <th></th>\n",
       "      <th></th>\n",
       "      <th></th>\n",
       "      <th></th>\n",
       "      <th></th>\n",
       "      <th></th>\n",
       "      <th></th>\n",
       "      <th></th>\n",
       "      <th></th>\n",
       "      <th></th>\n",
       "      <th></th>\n",
       "      <th></th>\n",
       "      <th></th>\n",
       "    </tr>\n",
       "  </thead>\n",
       "  <tbody>\n",
       "    <tr>\n",
       "      <th>0</th>\n",
       "      <td>36.787392</td>\n",
       "      <td>4.662442</td>\n",
       "      <td>190345.926796</td>\n",
       "      <td>5.232569</td>\n",
       "      <td>9.596081</td>\n",
       "      <td>3.531258</td>\n",
       "      <td>7.426431</td>\n",
       "      <td>2.690947</td>\n",
       "      <td>2.607256</td>\n",
       "      <td>0.388007</td>\n",
       "      <td>148.884970</td>\n",
       "      <td>53.190258</td>\n",
       "      <td>38.842862</td>\n",
       "      <td>1.240181</td>\n",
       "    </tr>\n",
       "    <tr>\n",
       "      <th>1</th>\n",
       "      <td>44.250925</td>\n",
       "      <td>4.287664</td>\n",
       "      <td>188000.480674</td>\n",
       "      <td>6.547519</td>\n",
       "      <td>11.612195</td>\n",
       "      <td>2.300038</td>\n",
       "      <td>7.003955</td>\n",
       "      <td>3.249394</td>\n",
       "      <td>2.782880</td>\n",
       "      <td>0.150402</td>\n",
       "      <td>4007.164562</td>\n",
       "      <td>195.051282</td>\n",
       "      <td>45.473402</td>\n",
       "      <td>0.929073</td>\n",
       "    </tr>\n",
       "  </tbody>\n",
       "</table>\n",
       "</div>"
      ],
      "text/plain": [
       "            age  workclass         fnlwgt  education  education-num  \\\n",
       "50k+                                                                  \n",
       "0     36.787392   4.662442  190345.926796   5.232569       9.596081   \n",
       "1     44.250925   4.287664  188000.480674   6.547519      11.612195   \n",
       "\n",
       "      marital-status  occupation  relationship      race       sex  \\\n",
       "50k+                                                                 \n",
       "0           3.531258    7.426431      2.690947  2.607256  0.388007   \n",
       "1           2.300038    7.003955      3.249394  2.782880  0.150402   \n",
       "\n",
       "      capital-gain  capital-loss  hours-per-week  native-country  \n",
       "50k+                                                              \n",
       "0       148.884970     53.190258       38.842862        1.240181  \n",
       "1      4007.164562    195.051282       45.473402        0.929073  "
      ]
     },
     "execution_count": 85,
     "metadata": {},
     "output_type": "execute_result"
    }
   ],
   "source": [
    "df.groupby('50k+').mean()"
   ]
  },
  {
   "cell_type": "markdown",
   "metadata": {},
   "source": [
    "***\n",
    "Już po wstępnej analizie można zaobserwować, że większe zarobki osiągają ludzie o wyższej średniej wieku oraz o lepszym wykształceniu\n",
    "***"
   ]
  },
  {
   "cell_type": "code",
   "execution_count": 86,
   "metadata": {
    "ExecuteTime": {
     "end_time": "2021-01-07T17:15:06.833331Z",
     "start_time": "2021-01-07T17:15:05.906868Z"
    },
    "scrolled": false
   },
   "outputs": [
    {
     "data": {
      "text/plain": [
       "<matplotlib.axes._subplots.AxesSubplot at 0x1372971fbc8>"
      ]
     },
     "execution_count": 86,
     "metadata": {},
     "output_type": "execute_result"
    },
    {
     "data": {
      "image/png": "[encoded data removed]",
      "text/plain": [
       "<Figure size 1152x1008 with 2 Axes>"
      ]
     },
     "metadata": {
      "needs_background": "light"
     },
     "output_type": "display_data"
    }
   ],
   "source": [
    "corr = df.corr()\n",
    "\n",
    "mask = np.triu(np.ones_like(corr, dtype=np.bool))\n",
    "f, ax = plt.subplots(figsize=(16, 14))\n",
    "cmap = sns.cubehelix_palette(8)\n",
    "\n",
    "sns.heatmap(corr, mask=mask, cmap=cmap, vmax=.3, center=0, annot=True,\n",
    "            square=True, linewidths=.5, cbar_kws={\"shrink\": .5})"
   ]
  },
  {
   "cell_type": "markdown",
   "metadata": {},
   "source": [
    "***\n",
    "Zmienna celu jest dość mocno skorelowana z pozostałymi zmiennymi, szczególnie z: age, education-num, marital-status, <br>capital-gain oraz hours-per-week.\n",
    "***"
   ]
  },
  {
   "cell_type": "markdown",
   "metadata": {},
   "source": [
    "# Płeć"
   ]
  },
  {
   "cell_type": "code",
   "execution_count": 87,
   "metadata": {
    "ExecuteTime": {
     "end_time": "2021-01-07T17:15:07.038778Z",
     "start_time": "2021-01-07T17:15:06.835330Z"
    }
   },
   "outputs": [
    {
     "data": {
      "text/plain": [
       "<matplotlib.legend.Legend at 0x13725835108>"
      ]
     },
     "execution_count": 87,
     "metadata": {},
     "output_type": "execute_result"
    },
    {
     "data": {
      "image/png": "[encoded data removed]",
      "text/plain": [
       "<Figure size 432x576 with 1 Axes>"
      ]
     },
     "metadata": {
      "needs_background": "light"
     },
     "output_type": "display_data"
    }
   ],
   "source": [
    "plt.figure(figsize=(6, 8))\n",
    "splot = sns.countplot(df['50k+'], hue = df['sex'])\n",
    "for p in splot.patches:\n",
    "    splot.annotate(format(p.get_height(), '.0f'), \n",
    "               (p.get_x() + p.get_width() / 2., p.get_height()), ha = 'center', va = 'center', xytext = (0, 10), textcoords = 'offset points')\n",
    "\n",
    "plt.title('Zmienna celu w zależności od płci', size = 20)\n",
    "plt.legend(labels=['Male','Female'])"
   ]
  },
  {
   "cell_type": "code",
   "execution_count": 88,
   "metadata": {
    "ExecuteTime": {
     "end_time": "2021-01-07T17:15:07.273512Z",
     "start_time": "2021-01-07T17:15:07.040731Z"
    }
   },
   "outputs": [
    {
     "data": {
      "image/png": "[encoded data removed]",
      "text/plain": [
       "<Figure size 864x504 with 1 Axes>"
      ]
     },
     "metadata": {
      "needs_background": "light"
     },
     "output_type": "display_data"
    }
   ],
   "source": [
    "plt.figure(figsize=(12,7))\n",
    "percentage = df.groupby('sex')['50k+'].value_counts(normalize=True).rename('percentage').mul(100).reset_index()\n",
    "p = sns.barplot(x=\"sex\", y=\"percentage\", hue=\"50k+\", data=percentage)\n",
    "p.set_xticklabels(['Male','Female'])\n",
    "plt.title('Udział procentowy w podziale na płeć osób zarabiających poniżej lub powyżej 50 tyś. $ rocznie', size = 15)\n",
    "for a in p.patches:\n",
    "        percentage = '{:.2f}%'.format(a.get_height())\n",
    "        x = a.get_x() + a.get_width() / 2.\n",
    "        y = a.get_height()\n",
    "        p.annotate(percentage, (x, y), ha = 'center', va = 'center', xytext = (0,10), textcoords = 'offset points')"
   ]
  },
  {
   "cell_type": "markdown",
   "metadata": {},
   "source": [
    "***\n",
    "W analizowanym zbiorze jest zdecydowanie więcej mężczyzn i prawie 3-krotnie większy odesetek mężczyzn niż kobiet osiąga zarobki <br>przekraczajaće 50 tyś $/rok.\n",
    "***"
   ]
  },
  {
   "cell_type": "markdown",
   "metadata": {},
   "source": [
    "# Wykształcenie"
   ]
  },
  {
   "cell_type": "code",
   "execution_count": 89,
   "metadata": {
    "ExecuteTime": {
     "end_time": "2021-01-07T17:15:07.806204Z",
     "start_time": "2021-01-07T17:15:07.275511Z"
    },
    "scrolled": false
   },
   "outputs": [
    {
     "data": {
      "image/png": "[encoded data removed]",
      "text/plain": [
       "<Figure size 1008x504 with 1 Axes>"
      ]
     },
     "metadata": {
      "needs_background": "light"
     },
     "output_type": "display_data"
    }
   ],
   "source": [
    "order = df.groupby('education').count().sort_values('age', ascending=False)['age'].index\n",
    "plt.figure(figsize=(14,7))\n",
    "splot = sns.countplot(df['education'], hue = df['50k+'], order = order)\n",
    "plt.xticks(rotation=45)\n",
    "plt.legend(loc='upper right', labels = ['<=50k','>50k'])\n",
    "plt.title('Zmienna celu w zależności od wykształcenia', size = 20)\n",
    "splot.set_xticklabels(['HS-grad','Some-college', 'Bachelors','Masters','Assoc-voc','11th','Assoc-acdm','10th','7th-8th','Prof-school','9th',\n",
    " '12th','Doctorate','5th-6th','1st-4th','Preschool'])\n",
    "for p in splot.patches:\n",
    "    percentage = '{:.0f}'.format(p.get_height())\n",
    "    x = p.get_x() + p.get_width() / 2.\n",
    "    y = p.get_height()\n",
    "    splot.annotate(percentage, (x,y), ha = 'center', va = 'center', xytext = (0,10), textcoords = 'offset points')"
   ]
  },
  {
   "cell_type": "code",
   "execution_count": 90,
   "metadata": {
    "ExecuteTime": {
     "end_time": "2021-01-07T17:15:08.073035Z",
     "start_time": "2021-01-07T17:15:07.808188Z"
    }
   },
   "outputs": [
    {
     "data": {
      "text/plain": [
       "Text(0.5, 1.0, 'Stopień edukacji')"
      ]
     },
     "execution_count": 90,
     "metadata": {},
     "output_type": "execute_result"
    },
    {
     "data": {
      "image/png": "[encoded data removed]",
      "text/plain": [
       "<Figure size 864x432 with 1 Axes>"
      ]
     },
     "metadata": {
      "needs_background": "light"
     },
     "output_type": "display_data"
    }
   ],
   "source": [
    "plt.figure(figsize=(12,6))\n",
    "sns.boxplot(x=df['50k+'], y=df['education-num'])\n",
    "plt.title('Stopień edukacji', size = 15)"
   ]
  },
  {
   "cell_type": "markdown",
   "metadata": {},
   "source": [
    "***\n",
    "Im wyższe wykształcenie tym lepsze zarobki. Jedynie 3 kategorie wykształcenia charakteryzują się<br>\n",
    "wiekszym odsetkiem ludzi zarabiających powyżej 50 tyś $ rocznie. Są to: Masters, Prof-school oraz Doctorate.<br>\n",
    "Ponadto, na wykresie pudełkowym można zaobserować, że dla osób zarabiających powyżej 50k niska edukacja <br>\n",
    "jest wartością odstającą, czyli takich przypadków jest bardzo niewiele. Podobnie jest w wypadku osób<br>\n",
    "zarabiających poniżej 50k, dla nich wysoka edukacja (od tytułu Bachelors) jest wartością odstającą.\n",
    "***"
   ]
  },
  {
   "cell_type": "markdown",
   "metadata": {},
   "source": [
    "# Stan cywilny"
   ]
  },
  {
   "cell_type": "code",
   "execution_count": 91,
   "metadata": {
    "ExecuteTime": {
     "end_time": "2021-01-07T17:15:08.365869Z",
     "start_time": "2021-01-07T17:15:08.075035Z"
    }
   },
   "outputs": [
    {
     "data": {
      "text/plain": [
       "Text(0.5, 1.0, 'Zarobki w zależności od stanu cywilnego')"
      ]
     },
     "execution_count": 91,
     "metadata": {},
     "output_type": "execute_result"
    },
    {
     "data": {
      "image/png": "[encoded data removed]",
      "text/plain": [
       "<Figure size 864x432 with 1 Axes>"
      ]
     },
     "metadata": {
      "needs_background": "light"
     },
     "output_type": "display_data"
    }
   ],
   "source": [
    "plt.figure(figsize=(12,6))\n",
    "splot = sns.countplot(x=df['marital-status'], hue = df['50k+'])\n",
    "splot.set_xticklabels(['Married-spouse-absent', 'Widowed', 'Married-civ-spouse', \n",
    "'Separated', 'Divorced','Never-married', 'Married-AF-spouse'])\n",
    "plt.title('Zarobki w zależności od stanu cywilnego', size =15)"
   ]
  },
  {
   "cell_type": "code",
   "execution_count": 92,
   "metadata": {
    "ExecuteTime": {
     "end_time": "2021-01-07T17:15:08.395927Z",
     "start_time": "2021-01-07T17:15:08.367868Z"
    }
   },
   "outputs": [
    {
     "data": {
      "text/plain": [
       "marital-status\n",
       "0    40.578947\n",
       "1    58.975831\n",
       "2    43.247361\n",
       "3    39.354146\n",
       "4    43.042783\n",
       "5    28.150558\n",
       "6    32.478261\n",
       "Name: age, dtype: float64"
      ]
     },
     "execution_count": 92,
     "metadata": {},
     "output_type": "execute_result"
    }
   ],
   "source": [
    "df.groupby('marital-status').mean()['age']"
   ]
  },
  {
   "cell_type": "markdown",
   "metadata": {},
   "source": [
    "***\n",
    "Najwięcej osób zarabiających powyżej 50k jest w związku małżeńskim. Osoby, które nie były nigdy w związku małżeńskim<br>\n",
    "wyrózniają się największą liczbą osób zarabiających poniżej 50k. Należy wziąć pod uwagę, że do tej grupy<br>\n",
    "należą osoby młode (średnia wieku 28 lat), które mogą być jeszcze w trakcie edukacji.\n",
    "***"
   ]
  },
  {
   "cell_type": "markdown",
   "metadata": {},
   "source": [
    "# Wiek"
   ]
  },
  {
   "cell_type": "code",
   "execution_count": 93,
   "metadata": {
    "ExecuteTime": {
     "end_time": "2021-01-07T17:15:08.722052Z",
     "start_time": "2021-01-07T17:15:08.397932Z"
    }
   },
   "outputs": [
    {
     "data": {
      "text/plain": [
       "<matplotlib.legend.Legend at 0x1372f626288>"
      ]
     },
     "execution_count": 93,
     "metadata": {},
     "output_type": "execute_result"
    },
    {
     "data": {
      "image/png": "[encoded data removed]",
      "text/plain": [
       "<Figure size 864x432 with 1 Axes>"
      ]
     },
     "metadata": {
      "needs_background": "light"
     },
     "output_type": "display_data"
    }
   ],
   "source": [
    "plt.figure(figsize=(12,6))\n",
    "df[df['50k+']==0]['age'].hist(bins=20, rwidth=0.96, alpha = 0.9, label = '<=50k')\n",
    "df[df['50k+']==1]['age'].hist(bins=20, rwidth=0.96, alpha = 0.9, label = '>50k')\n",
    "plt.xlabel('Age')\n",
    "plt.ylabel('Count')\n",
    "plt.title('Rozkład wieku z podziałem na zarobki', size = 15)\n",
    "plt.legend()"
   ]
  },
  {
   "cell_type": "markdown",
   "metadata": {},
   "source": [
    "***\n",
    "Najwięcej osób przekraczających próg 50k $/rok jest w wieku około 45 lat.<br>\n",
    "Wraz z wiekiem spada liczba osób o niższych zarobkach.\n",
    "***"
   ]
  },
  {
   "cell_type": "markdown",
   "metadata": {},
   "source": [
    "# Liczba godzin pracy"
   ]
  },
  {
   "cell_type": "code",
   "execution_count": 94,
   "metadata": {
    "ExecuteTime": {
     "end_time": "2021-01-07T17:15:08.956920Z",
     "start_time": "2021-01-07T17:15:08.724070Z"
    }
   },
   "outputs": [
    {
     "data": {
      "text/plain": [
       "Text(0.5, 1.0, 'Liczba godzin pracy w tygodniu')"
      ]
     },
     "execution_count": 94,
     "metadata": {},
     "output_type": "execute_result"
    },
    {
     "data": {
      "image/png": "[encoded data removed]",
      "text/plain": [
       "<Figure size 864x432 with 1 Axes>"
      ]
     },
     "metadata": {
      "needs_background": "light"
     },
     "output_type": "display_data"
    }
   ],
   "source": [
    "plt.figure(figsize=(12,6))\n",
    "sns.boxplot(x=df['50k+'], y=df['hours-per-week'])\n",
    "plt.title('Liczba godzin pracy w tygodniu', size = 15)"
   ]
  },
  {
   "cell_type": "code",
   "execution_count": 95,
   "metadata": {
    "ExecuteTime": {
     "end_time": "2021-01-07T17:15:09.596554Z",
     "start_time": "2021-01-07T17:15:08.958920Z"
    }
   },
   "outputs": [
    {
     "data": {
      "text/plain": [
       "Text(0.5, 1.0, 'Rozkład godzin pracy w tygodniu')"
      ]
     },
     "execution_count": 95,
     "metadata": {},
     "output_type": "execute_result"
    },
    {
     "data": {
      "image/png": "[encoded data removed]",
      "text/plain": [
       "<Figure size 864x432 with 1 Axes>"
      ]
     },
     "metadata": {
      "needs_background": "light"
     },
     "output_type": "display_data"
    }
   ],
   "source": [
    "plt.figure(figsize=(12,6))\n",
    "sns.distplot(df[df['50k+'] == 0]['hours-per-week'], kde_kws={\"label\": \"0\"})\n",
    "sns.distplot(df[df['50k+'] == 1]['hours-per-week'], kde_kws={\"label\": \"1\"})\n",
    "plt.xlim(25,65)\n",
    "plt.title('Rozkład godzin pracy w tygodniu', fontsize=15)"
   ]
  },
  {
   "cell_type": "code",
   "execution_count": 96,
   "metadata": {
    "ExecuteTime": {
     "end_time": "2021-01-07T17:15:09.632531Z",
     "start_time": "2021-01-07T17:15:09.601551Z"
    }
   },
   "outputs": [
    {
     "data": {
      "text/plain": [
       "50k+\n",
       "0    38.842862\n",
       "1    45.473402\n",
       "Name: hours-per-week, dtype: float64"
      ]
     },
     "execution_count": 96,
     "metadata": {},
     "output_type": "execute_result"
    }
   ],
   "source": [
    "df.groupby('50k+').mean()['hours-per-week']"
   ]
  },
  {
   "cell_type": "markdown",
   "metadata": {},
   "source": [
    "***\n",
    "Osoby zarabiające powyżej 50k pracują średnio o prawie 7 godzin tygodniowo więcej.\n",
    "***"
   ]
  },
  {
   "cell_type": "markdown",
   "metadata": {},
   "source": [
    "# Rasa"
   ]
  },
  {
   "cell_type": "code",
   "execution_count": 97,
   "metadata": {
    "ExecuteTime": {
     "end_time": "2021-01-07T17:15:10.006253Z",
     "start_time": "2021-01-07T17:15:09.636530Z"
    }
   },
   "outputs": [
    {
     "data": {
      "image/png": "[encoded data removed]",
      "text/plain": [
       "<Figure size 864x504 with 1 Axes>"
      ]
     },
     "metadata": {
      "needs_background": "light"
     },
     "output_type": "display_data"
    }
   ],
   "source": [
    "plt.figure(figsize=(12,7))\n",
    "splot = sns.countplot(df['race'], hue=df['50k+'])\n",
    "splot.set_xticklabels(['Black', 'Asian-Pac-Islander','Other', 'White', 'Amer-Indian-Eskimo'])\n",
    "plt.title('Rasa a osiągane zarobki', size = 15)\n",
    "for p in splot.patches:\n",
    "    percentage = '{:.0f}'.format(p.get_height())\n",
    "    x = p.get_x() + p.get_width() / 2.\n",
    "    y = p.get_height()\n",
    "    splot.annotate(percentage, (x, y), ha = 'center', va = 'center', xytext = (0,10), textcoords = 'offset points')"
   ]
  },
  {
   "cell_type": "code",
   "execution_count": 98,
   "metadata": {
    "ExecuteTime": {
     "end_time": "2021-01-07T17:15:10.454997Z",
     "start_time": "2021-01-07T17:15:10.008270Z"
    }
   },
   "outputs": [
    {
     "data": {
      "image/png": "[encoded data removed]",
      "text/plain": [
       "<Figure size 864x504 with 1 Axes>"
      ]
     },
     "metadata": {
      "needs_background": "light"
     },
     "output_type": "display_data"
    }
   ],
   "source": [
    "plt.figure(figsize=(12,7))\n",
    "percentage = df.groupby('race')['50k+'].value_counts(normalize = True).rename('percentage').mul(100).reset_index()\n",
    "splot = sns.barplot(x = percentage['race'], y = percentage['percentage'], hue=percentage['50k+'])\n",
    "splot.set_xticklabels(['Black', 'Asian-Pac-Islander','Other', 'White', 'Amer-Indian-Eskimo'])\n",
    "plt.title('Rasa a osiągane zarobki - udział procentowy osób przekraczających 50k w danej grupie etnicznej', size = 15)\n",
    "for p in splot.patches:\n",
    "    percentagee = '{:.2f}%'.format(p.get_height())\n",
    "    x = p.get_x() + p.get_width() / 2.\n",
    "    y = p.get_height()\n",
    "    splot.annotate(percentagee, (x, y), ha = 'center', va = 'center', xytext = (0,10), textcoords = 'offset points')"
   ]
  },
  {
   "cell_type": "markdown",
   "metadata": {},
   "source": [
    "***\n",
    "W analizowanym zbiorze największą grupę tworzą ludzie rasy białej. Na drugim wykresie przedstawiono <br>\n",
    "udział procentowy osób przekraczających 50k w danej grupie etnicznej. Największym odsetkiem wyróżniają się <br>\n",
    "dwie rasy: azjatycka oraz biała. \n",
    "***"
   ]
  },
  {
   "cell_type": "markdown",
   "metadata": {},
   "source": [
    "# Budowa modelu"
   ]
  },
  {
   "cell_type": "markdown",
   "metadata": {},
   "source": [
    "***\n",
    "Zdecydowano na usunięcie kolumn:<br>\n",
    "- education, ponieważ przedstawia te same informacje, które są zawarte w education_num, <br>\n",
    "- native-country, w zdecydowanej większości (ponad 90%) obserwacji pochodzi z USA, a w zbiorze znajduje się aż 41 pozycji, może mieć to negatywny wpływ na dokładność modelu, <br>\n",
    "***"
   ]
  },
  {
   "cell_type": "markdown",
   "metadata": {},
   "source": [
    "***\n",
    "Na początku należy przygotować zbiór danych test, tak jak to miało miejsce ze zbiorem danych train.\n",
    "***"
   ]
  },
  {
   "cell_type": "code",
   "execution_count": 99,
   "metadata": {
    "ExecuteTime": {
     "end_time": "2021-01-07T17:15:10.530733Z",
     "start_time": "2021-01-07T17:15:10.456998Z"
    }
   },
   "outputs": [],
   "source": [
    "df_test.drop_duplicates(inplace = True)\n",
    "df_test.replace('?', np.nan, inplace = True)\n",
    "df_test.fillna(method = 'ffill', inplace = True)"
   ]
  },
  {
   "cell_type": "code",
   "execution_count": 100,
   "metadata": {
    "ExecuteTime": {
     "end_time": "2021-01-07T17:15:10.610683Z",
     "start_time": "2021-01-07T17:15:10.534728Z"
    },
    "scrolled": true
   },
   "outputs": [],
   "source": [
    "#sex\n",
    "df_test['sex'] = df_test['sex'].map({'Male': 0, 'Female': 1}).astype(int)\n",
    "\n",
    "#race\n",
    "df_test['race'] = df_test['race'].map({'Black': 0, 'Asian-Pac-Islander': 1,'Other': 2, 'White': 3, 'Amer-Indian-Eskimo': 4}).astype(int)\n",
    "\n",
    "#marital-status\n",
    "df_test['marital-status'] = df_test['marital-status'].map({'Married-spouse-absent': 0, 'Widowed': 1, 'Married-civ-spouse': 2, \n",
    "'Separated': 3, 'Divorced': 4,'Never-married': 5, 'Married-AF-spouse': 6}).astype(int)\n",
    "\n",
    "#workclass\n",
    "df_test['workclass'] = df_test['workclass'].map({'Self-emp-inc': 0, 'State-gov': 1,'Federal-gov': 2, 'Without-pay': 3, 'Local-gov': 4,\n",
    "                                       'Private': 5, 'Self-emp-not-inc': 6, 'Never-worked': 7}).astype(int)\n",
    "\n",
    "#education\n",
    "df_test['education'] = df_test['education'].map({'Some-college': 0, 'Preschool': 1, '5th-6th': 2, 'HS-grad': 3, 'Masters': 4, '12th': 5,\n",
    "   '7th-8th': 6, 'Prof-school': 7,'1st-4th': 8, 'Assoc-acdm': 9, 'Doctorate': 10, '11th': 11,\n",
    "    'Bachelors': 12, '10th': 13,'Assoc-voc': 14, '9th': 15}).astype(int)\n",
    "\n",
    "#occupation\n",
    "df_test['occupation'] = df_test['occupation'].map({ 'Farming-fishing': 1, 'Tech-support': 2, 'Adm-clerical': 3, 'Handlers-cleaners': 4, \n",
    " 'Prof-specialty': 5,'Machine-op-inspct': 6, 'Exec-managerial': 7,'Priv-house-serv': 8,'Craft-repair': 9,'Sales': 10, \n",
    "                    'Transport-moving': 11, 'Armed-Forces': 12, 'Other-service': 13,'Protective-serv':14}).astype(int)\n",
    "\n",
    "#relationship\n",
    "df_test['relationship'] = df_test['relationship'].map({'Not-in-family': 0, 'Wife': 1, 'Other-relative': 2, 'Unmarried': 3,'Husband': 4,\n",
    "                                             'Own-child': 5}).astype(int)\n",
    "\n",
    "#native-country\n",
    "df_test['native-country'] = df_test['native-country'].map({'United-States': 0, 'Cuba': 1, 'Jamaica': 2, 'India': 3, 'Mexico': 4,\n",
    "'South': 5, 'Puerto-Rico': 6, 'Honduras': 7, 'England': 8, 'Canada': 9, 'Germany': 10, 'Iran': 11, 'Philippines': 12,\n",
    "'Italy': 13, 'Poland': 14, 'Columbia': 15, 'Cambodia': 16, 'Thailand': 17, 'Ecuador': 18, 'Laos': 19, 'Taiwan': 20, \n",
    "'Haiti': 21, 'Portugal': 22, 'Dominican-Republic': 23, 'El-Salvador': 24, 'France': 25, 'Guatemala': 26, 'China': 27,\n",
    "'Japan': 28, 'Yugoslavia': 29, 'Peru': 30, 'Outlying-US(Guam-USVI-etc)': 31, 'Scotland': 32, 'Trinadad&Tobago': 33,\n",
    "'Greece': 34, 'Nicaragua': 35, 'Vietnam': 36, 'Hong': 37, 'Ireland': 38, 'Hungary': 39, 'Holand-Netherlands': 40}).astype(int)\n",
    "\n",
    "#50k+\n",
    "df_test['50k+'] = df_test['50k+'].map({'<=50K.': 0, '>50K.': 1}).astype(int)"
   ]
  },
  {
   "cell_type": "code",
   "execution_count": 101,
   "metadata": {
    "ExecuteTime": {
     "end_time": "2021-01-07T17:15:10.642665Z",
     "start_time": "2021-01-07T17:15:10.614685Z"
    }
   },
   "outputs": [],
   "source": [
    "#drop education i native-country\n",
    "df.drop(['education', 'native-country'], axis = 1, inplace = True)\n",
    "df_test.drop(['education', 'native-country'], axis = 1, inplace = True)"
   ]
  },
  {
   "cell_type": "code",
   "execution_count": 102,
   "metadata": {
    "ExecuteTime": {
     "end_time": "2021-01-07T17:15:10.673664Z",
     "start_time": "2021-01-07T17:15:10.645667Z"
    }
   },
   "outputs": [],
   "source": [
    "X_train = df.drop('50k+', axis = 1).values\n",
    "y_train = df['50k+'].values\n",
    "X_test = df_test.drop('50k+', axis = 1).values\n",
    "y_test = df_test['50k+'].values"
   ]
  },
  {
   "cell_type": "markdown",
   "metadata": {},
   "source": [
    "***\n",
    "Zbiory zostały podzielone na X_train, X_test oraz y_train i y_test.\n",
    "***"
   ]
  },
  {
   "cell_type": "code",
   "execution_count": 103,
   "metadata": {
    "ExecuteTime": {
     "end_time": "2021-01-07T17:15:10.688656Z",
     "start_time": "2021-01-07T17:15:10.675664Z"
    }
   },
   "outputs": [
    {
     "name": "stdout",
     "output_type": "stream",
     "text": [
      "(32537, 12) (16275, 12) (32537,) (16275,)\n"
     ]
    }
   ],
   "source": [
    "print(X_train.shape, X_test.shape, y_train.shape, y_test.shape)"
   ]
  },
  {
   "cell_type": "markdown",
   "metadata": {},
   "source": [
    "# Importowanie potrzebnych funkcji"
   ]
  },
  {
   "cell_type": "code",
   "execution_count": 104,
   "metadata": {
    "ExecuteTime": {
     "end_time": "2021-01-07T17:15:10.704646Z",
     "start_time": "2021-01-07T17:15:10.690654Z"
    }
   },
   "outputs": [],
   "source": [
    "from sklearn.neighbors import KNeighborsClassifier\n",
    "from sklearn.linear_model import LogisticRegression\n",
    "from sklearn.tree import DecisionTreeClassifier\n",
    "from sklearn.ensemble import RandomForestClassifier, VotingClassifier\n",
    "from sklearn.model_selection import RandomizedSearchCV, GridSearchCV\n",
    "from sklearn.metrics import accuracy_score, confusion_matrix, roc_auc_score, classification_report, roc_curve\n",
    "from sklearn.preprocessing import StandardScaler"
   ]
  },
  {
   "cell_type": "code",
   "execution_count": 105,
   "metadata": {
    "ExecuteTime": {
     "end_time": "2021-01-07T17:15:10.751619Z",
     "start_time": "2021-01-07T17:15:10.707645Z"
    }
   },
   "outputs": [],
   "source": [
    "scaler = StandardScaler()\n",
    "X_train = scaler.fit_transform(X_train)\n",
    "X_test = scaler.transform(X_test)"
   ]
  },
  {
   "cell_type": "markdown",
   "metadata": {},
   "source": [
    "***\n",
    "Ze względu na dużą czułośc szczególnie Regresji Logistycznej i metody K-Najbliższych sąsiadów <br>\n",
    "zdecydowano się na standaryzacje danych za pomocą narzędzia StandardScaler.\n",
    "***"
   ]
  },
  {
   "cell_type": "markdown",
   "metadata": {},
   "source": [
    "# KNeighbors"
   ]
  },
  {
   "cell_type": "code",
   "execution_count": 106,
   "metadata": {
    "ExecuteTime": {
     "end_time": "2021-01-07T17:15:19.930673Z",
     "start_time": "2021-01-07T17:15:10.754618Z"
    }
   },
   "outputs": [
    {
     "name": "stdout",
     "output_type": "stream",
     "text": [
      "KNN-Default accuracy:  0.8337327188940092\n"
     ]
    }
   ],
   "source": [
    "knn = KNeighborsClassifier()\n",
    "knn.fit(X_train, y_train)\n",
    "y_pred_knn_default = knn.predict(X_test)\n",
    "print('KNN-Default accuracy: ', accuracy_score(y_test, y_pred_knn_default))"
   ]
  },
  {
   "cell_type": "code",
   "execution_count": 107,
   "metadata": {
    "ExecuteTime": {
     "end_time": "2021-01-07T17:27:22.657194Z",
     "start_time": "2021-01-07T17:15:19.932674Z"
    },
    "scrolled": false
   },
   "outputs": [
    {
     "name": "stdout",
     "output_type": "stream",
     "text": [
      "KNN-tuning accuracy:  0.8433179723502304\n"
     ]
    }
   ],
   "source": [
    "n_neighbors = np.array(range(2,61))\n",
    "accuracy = []\n",
    "for n in n_neighbors:\n",
    "    knn = KNeighborsClassifier(n_neighbors=n)\n",
    "    knn.fit(X_train, y_train)\n",
    "    y_pred = knn.predict(X_test)\n",
    "    score = accuracy_score(y_test, y_pred)\n",
    "    accuracy.append(score)\n",
    "#print(accuracy)\n",
    "index = accuracy.index(max(accuracy)) + 2\n",
    "knn_best_n = KNeighborsClassifier(n_neighbors=index)\n",
    "knn_best_n.fit(X_train, y_train)\n",
    "y_pred_knn_best = knn_best_n.predict(X_test)\n",
    "print('KNN-tuning accuracy: ', accuracy_score(y_test, y_pred_knn_best))"
   ]
  },
  {
   "cell_type": "code",
   "execution_count": 108,
   "metadata": {
    "ExecuteTime": {
     "end_time": "2021-01-07T17:27:22.704166Z",
     "start_time": "2021-01-07T17:27:22.659192Z"
    }
   },
   "outputs": [
    {
     "name": "stdout",
     "output_type": "stream",
     "text": [
      "              precision    recall  f1-score   support\n",
      "\n",
      "           0       0.87      0.93      0.90     12429\n",
      "           1       0.71      0.56      0.63      3846\n",
      "\n",
      "    accuracy                           0.84     16275\n",
      "   macro avg       0.79      0.75      0.77     16275\n",
      "weighted avg       0.84      0.84      0.84     16275\n",
      "\n",
      "Confusion_matrix: \n",
      " [[11559   870]\n",
      " [ 1680  2166]]\n"
     ]
    }
   ],
   "source": [
    "print(classification_report(y_test, y_pred_knn_best))\n",
    "print('Confusion_matrix: \\n',confusion_matrix(y_test,y_pred_knn_best))"
   ]
  },
  {
   "cell_type": "code",
   "execution_count": 109,
   "metadata": {
    "ExecuteTime": {
     "end_time": "2021-01-07T17:27:22.924470Z",
     "start_time": "2021-01-07T17:27:22.706166Z"
    }
   },
   "outputs": [
    {
     "data": {
      "text/plain": [
       "Text(0.5, 1.0, 'Accuracy dla KNeighbors w zależności od n')"
      ]
     },
     "execution_count": 109,
     "metadata": {},
     "output_type": "execute_result"
    },
    {
     "data": {
      "image/png": "[encoded data removed]",
      "text/plain": [
       "<Figure size 864x432 with 1 Axes>"
      ]
     },
     "metadata": {
      "needs_background": "light"
     },
     "output_type": "display_data"
    }
   ],
   "source": [
    "x = np.array(range(len(accuracy)))+2\n",
    "y = accuracy\n",
    "plt.figure(figsize=(12,6))\n",
    "plt.plot(x, y, linestyle='--', marker = 'o', markerfacecolor='red')\n",
    "plt.vlines(x=index, ymin=min(y), ymax=max(y), linestyle='--')\n",
    "plt.hlines(y=max(y), xmin=0, xmax=index, linestyle='--')\n",
    "plt.annotate(s=((((max(y)*100).round(2)).astype('str'))+'%'), xy=(-2,max(y)-0.001), fontsize=15)\n",
    "plt.title('Accuracy dla KNeighbors w zależności od n', fontsize=15)"
   ]
  },
  {
   "cell_type": "markdown",
   "metadata": {},
   "source": [
    "***\n",
    "Pierwszy zbudowany model to model K-Najbliższych sąsiadów. Dla znalezienia optymalnej liczby sąsiadów (n_neighbors)<br>\n",
    "zastosowano pętle budująca model dla wszystkich wartości od 2 do 60. Model z n_neighbors równym 40 osiągnął największą <br>\n",
    "dokładność predykcji wynoszącą 84.32% na zbiorze testowym.\n",
    "***"
   ]
  },
  {
   "cell_type": "markdown",
   "metadata": {},
   "source": [
    "# Regresja Logistyczna"
   ]
  },
  {
   "cell_type": "code",
   "execution_count": 110,
   "metadata": {
    "ExecuteTime": {
     "end_time": "2021-01-07T17:27:23.002487Z",
     "start_time": "2021-01-07T17:27:22.926472Z"
    }
   },
   "outputs": [
    {
     "name": "stdout",
     "output_type": "stream",
     "text": [
      "LogisticRegression-default accuracy:  0.8350230414746543\n"
     ]
    }
   ],
   "source": [
    "reg = LogisticRegression()\n",
    "reg.fit(X_train, y_train)\n",
    "y_pred_reg_default = reg.predict(X_test)\n",
    "print('LogisticRegression-default accuracy: ', accuracy_score(y_test,y_pred_reg_default))"
   ]
  },
  {
   "cell_type": "code",
   "execution_count": 111,
   "metadata": {
    "ExecuteTime": {
     "end_time": "2021-01-07T17:29:49.294465Z",
     "start_time": "2021-01-07T17:27:23.005490Z"
    },
    "scrolled": true
   },
   "outputs": [
    {
     "name": "stdout",
     "output_type": "stream",
     "text": [
      "LogisticRegression-tuning accuracy:  0.8350230414746543\n"
     ]
    }
   ],
   "source": [
    "#Tuning huperparamterów\n",
    "param_grid = {'penalty' : ['l2'],\n",
    "              'C' : np.logspace(-3, 3, 50),\n",
    "              'solver' : ['saga', 'lbfgs', 'liblinear']}\n",
    "reg_gs = GridSearchCV(LogisticRegression(), param_grid=param_grid, cv = 10)\n",
    "best_model_reg = reg_gs.fit(X_train, y_train)\n",
    "y_pred_reg_best = best_model_reg.predict(X_test)\n",
    "print(\"LogisticRegression-tuning accuracy: \", accuracy_score(y_test,y_pred_reg_best))"
   ]
  },
  {
   "cell_type": "code",
   "execution_count": 112,
   "metadata": {
    "ExecuteTime": {
     "end_time": "2021-01-07T17:29:49.356573Z",
     "start_time": "2021-01-07T17:29:49.296481Z"
    }
   },
   "outputs": [
    {
     "name": "stdout",
     "output_type": "stream",
     "text": [
      "              precision    recall  f1-score   support\n",
      "\n",
      "           0       0.86      0.93      0.90     12429\n",
      "           1       0.70      0.52      0.60      3846\n",
      "\n",
      "    accuracy                           0.84     16275\n",
      "   macro avg       0.78      0.73      0.75     16275\n",
      "weighted avg       0.83      0.84      0.83     16275\n",
      "\n",
      "Confusion_matrix: \n",
      " [[11572   857]\n",
      " [ 1828  2018]]\n"
     ]
    }
   ],
   "source": [
    "print(classification_report(y_test,y_pred_reg_best))\n",
    "print('Confusion_matrix: \\n', confusion_matrix(y_test,y_pred_reg_best))"
   ]
  },
  {
   "cell_type": "code",
   "execution_count": 113,
   "metadata": {
    "ExecuteTime": {
     "end_time": "2021-01-07T17:29:49.372508Z",
     "start_time": "2021-01-07T17:29:49.358516Z"
    }
   },
   "outputs": [
    {
     "data": {
      "text/plain": [
       "{'C': 1.5264179671752334, 'penalty': 'l2', 'solver': 'saga'}"
      ]
     },
     "execution_count": 113,
     "metadata": {},
     "output_type": "execute_result"
    }
   ],
   "source": [
    "best_model_reg.best_params_"
   ]
  },
  {
   "cell_type": "markdown",
   "metadata": {},
   "source": [
    "***\n",
    "W modelu Regresji Logistycznej nie udało się podnieść dokładności modelu za pomocą tuningu hiperparamterów. <br>\n",
    "Model ten charakteryzował się skutecznością poprawnej klasyfikacji na poziomie 83.47%\n",
    "***"
   ]
  },
  {
   "cell_type": "markdown",
   "metadata": {},
   "source": [
    "# Drzewo decyzyjne"
   ]
  },
  {
   "cell_type": "code",
   "execution_count": 114,
   "metadata": {
    "ExecuteTime": {
     "end_time": "2021-01-07T17:29:49.577406Z",
     "start_time": "2021-01-07T17:29:49.374507Z"
    }
   },
   "outputs": [
    {
     "data": {
      "text/plain": [
       "0.8058986175115207"
      ]
     },
     "execution_count": 114,
     "metadata": {},
     "output_type": "execute_result"
    }
   ],
   "source": [
    "dct = DecisionTreeClassifier()\n",
    "dct.fit(X_train, y_train)\n",
    "y_pred_dct_default = dct.predict(X_test)\n",
    "accuracy_score(y_test, y_pred_dct_default)"
   ]
  },
  {
   "cell_type": "code",
   "execution_count": 115,
   "metadata": {
    "ExecuteTime": {
     "end_time": "2021-01-07T17:31:46.276292Z",
     "start_time": "2021-01-07T17:29:49.579389Z"
    }
   },
   "outputs": [
    {
     "name": "stdout",
     "output_type": "stream",
     "text": [
      "DecisionTreeClassifier accuracy:  0.8551152073732718\n"
     ]
    }
   ],
   "source": [
    "#Tuning hiperparametrów\n",
    "param_grid = { \"max_depth\" : [6,7,8,9,10,11,12],\n",
    "              \"max_features\": [3,6,9,12],\n",
    "              \"min_samples_leaf\": [1,3,5],\n",
    "              \"criterion\": [\"gini\", \"entropy\"]}\n",
    "dct_gs = GridSearchCV(DecisionTreeClassifier(), param_grid=param_grid, cv = 10)\n",
    "best_model_dct = dct_gs.fit(X_train, y_train)\n",
    "y_pred_dct_best = best_model_dct.predict(X_test)\n",
    "print(\"DecisionTreeClassifier accuracy: \", accuracy_score(y_test,y_pred_dct_best))"
   ]
  },
  {
   "cell_type": "code",
   "execution_count": 116,
   "metadata": {
    "ExecuteTime": {
     "end_time": "2021-01-07T17:31:46.338381Z",
     "start_time": "2021-01-07T17:31:46.278290Z"
    }
   },
   "outputs": [
    {
     "name": "stdout",
     "output_type": "stream",
     "text": [
      "              precision    recall  f1-score   support\n",
      "\n",
      "           0       0.87      0.95      0.91     12429\n",
      "           1       0.78      0.53      0.64      3846\n",
      "\n",
      "    accuracy                           0.86     16275\n",
      "   macro avg       0.83      0.74      0.77     16275\n",
      "weighted avg       0.85      0.86      0.84     16275\n",
      "\n",
      "Confusion_matrix: \n",
      " [[11861   568]\n",
      " [ 1790  2056]]\n"
     ]
    }
   ],
   "source": [
    "print(classification_report(y_test,y_pred_dct_best))\n",
    "print('Confusion_matrix: \\n', confusion_matrix(y_test,y_pred_dct_best))"
   ]
  },
  {
   "cell_type": "code",
   "execution_count": 117,
   "metadata": {
    "ExecuteTime": {
     "end_time": "2021-01-07T17:31:46.354318Z",
     "start_time": "2021-01-07T17:31:46.340323Z"
    }
   },
   "outputs": [
    {
     "data": {
      "text/plain": [
       "{'criterion': 'gini',\n",
       " 'max_depth': 9,\n",
       " 'max_features': 12,\n",
       " 'min_samples_leaf': 1}"
      ]
     },
     "execution_count": 117,
     "metadata": {},
     "output_type": "execute_result"
    }
   ],
   "source": [
    "best_model_dct.best_params_"
   ]
  },
  {
   "cell_type": "markdown",
   "metadata": {},
   "source": [
    "***\n",
    "Tuning hiperparamterów podnisół miarę <i>accuracy</i> modelu drzewa decyzyjnego o prawie 5 punktów procentowych.<br>\n",
    "Drzewo decyzyjne z domyślnymi parametrami osiągnęło wartość tego paramteru równą 80.61%, natomiast po skorzystaniu z <br>\n",
    "funkcji GridSearch udało się osiągnąc dokładność klasyfikacji na poziomi 85.22 %.\n",
    "***"
   ]
  },
  {
   "cell_type": "markdown",
   "metadata": {},
   "source": [
    "# Las losowy"
   ]
  },
  {
   "cell_type": "code",
   "execution_count": 118,
   "metadata": {
    "ExecuteTime": {
     "end_time": "2021-01-07T17:31:50.718470Z",
     "start_time": "2021-01-07T17:31:46.357315Z"
    }
   },
   "outputs": [
    {
     "name": "stdout",
     "output_type": "stream",
     "text": [
      "RandomForest-default accuracy:  0.8553609831029186\n"
     ]
    }
   ],
   "source": [
    "rf = RandomForestClassifier()\n",
    "rf.fit(X_train, y_train)\n",
    "y_pred_rf_default = rf.predict(X_test)\n",
    "print('RandomForest-default accuracy: ', accuracy_score(y_test, y_pred_rf_default))"
   ]
  },
  {
   "cell_type": "code",
   "execution_count": 119,
   "metadata": {
    "ExecuteTime": {
     "end_time": "2021-01-07T22:54:48.888381Z",
     "start_time": "2021-01-07T17:31:50.722467Z"
    }
   },
   "outputs": [
    {
     "name": "stdout",
     "output_type": "stream",
     "text": [
      "RandomForestClassifier accuracy:  0.8591705069124423\n"
     ]
    }
   ],
   "source": [
    "param_grid = {\"n_estimators\":[100,300,500,700],\n",
    "              \"max_depth\" : [2,8,10],\n",
    "              \"max_features\": [3,6,12],\n",
    "              \"min_samples_leaf\": [1,3],\n",
    "              \"criterion\": ['gini', 'entropy']}\n",
    "rf_gs = GridSearchCV(RandomForestClassifier(), param_grid=param_grid, cv = 10)\n",
    "best_model_rf = rf_gs.fit(X_train, y_train)\n",
    "y_pred_rf_best = best_model_rf.predict(X_test)\n",
    "print(\"RandomForestClassifier accuracy: \", accuracy_score(y_test,y_pred_rf_best))             "
   ]
  },
  {
   "cell_type": "code",
   "execution_count": 120,
   "metadata": {
    "ExecuteTime": {
     "end_time": "2021-01-07T22:54:48.903376Z",
     "start_time": "2021-01-07T22:54:48.891380Z"
    }
   },
   "outputs": [
    {
     "name": "stdout",
     "output_type": "stream",
     "text": [
      "RandomForestClassifier accuracy:  0.8591705069124423\n"
     ]
    }
   ],
   "source": [
    "print(\"RandomForestClassifier accuracy: \", accuracy_score(y_test,y_pred_rf_best))"
   ]
  },
  {
   "cell_type": "code",
   "execution_count": 121,
   "metadata": {
    "ExecuteTime": {
     "end_time": "2021-01-07T22:54:48.967335Z",
     "start_time": "2021-01-07T22:54:48.906372Z"
    }
   },
   "outputs": [
    {
     "name": "stdout",
     "output_type": "stream",
     "text": [
      "              precision    recall  f1-score   support\n",
      "\n",
      "           0       0.87      0.95      0.91     12429\n",
      "           1       0.78      0.56      0.65      3846\n",
      "\n",
      "    accuracy                           0.86     16275\n",
      "   macro avg       0.83      0.75      0.78     16275\n",
      "weighted avg       0.85      0.86      0.85     16275\n",
      "\n",
      "Confusion_matrix: \n",
      " [[11841   588]\n",
      " [ 1704  2142]]\n"
     ]
    }
   ],
   "source": [
    "print(classification_report(y_test,y_pred_rf_best))\n",
    "print('Confusion_matrix: \\n', confusion_matrix(y_test,y_pred_rf_best))"
   ]
  },
  {
   "cell_type": "code",
   "execution_count": 122,
   "metadata": {
    "ExecuteTime": {
     "end_time": "2021-01-07T22:54:48.983326Z",
     "start_time": "2021-01-07T22:54:48.970334Z"
    }
   },
   "outputs": [
    {
     "data": {
      "text/plain": [
       "{'criterion': 'gini',\n",
       " 'max_depth': 10,\n",
       " 'max_features': 12,\n",
       " 'min_samples_leaf': 1,\n",
       " 'n_estimators': 100}"
      ]
     },
     "execution_count": 122,
     "metadata": {},
     "output_type": "execute_result"
    }
   ],
   "source": [
    "best_model_rf.best_params_"
   ]
  },
  {
   "cell_type": "markdown",
   "metadata": {},
   "source": [
    "***\n",
    "Domyślny las losowy osiągnął dokładność predykcji na zbiorze testowym na poziomie 85.12%. Po tuninigu hiperparametrów<br>\n",
    "udało się podnieść ten parametr do 85.69%, co jest dotychczas najwyższym wynikiem.\n",
    "***"
   ]
  },
  {
   "cell_type": "markdown",
   "metadata": {},
   "source": [
    "# Voting Classifier"
   ]
  },
  {
   "cell_type": "code",
   "execution_count": 123,
   "metadata": {
    "ExecuteTime": {
     "end_time": "2021-01-07T22:55:05.138240Z",
     "start_time": "2021-01-07T22:54:48.992322Z"
    }
   },
   "outputs": [
    {
     "name": "stdout",
     "output_type": "stream",
     "text": [
      "VotingClassifier accuracy:  0.8548079877112135\n"
     ]
    }
   ],
   "source": [
    "knn = KNeighborsClassifier(n_neighbors=40)\n",
    "log_reg = LogisticRegression()\n",
    "dct = DecisionTreeClassifier(criterion='gini', max_depth = 9, max_features = 12, min_samples_leaf = 1)\n",
    "#rfc = RandomForestClassifier(criterion = 'gini', max_depth = 10, max_features = 12, min_samples_leaf = 1, n_estimators = 700)\n",
    "\n",
    "\n",
    "vc = VotingClassifier(estimators=[('k-n', knn), ('lr', log_reg), ('tree', dct)], voting='soft')\n",
    "vc.fit(X_train, y_train)\n",
    "y_pred_vc = vc.predict(X_test)\n",
    "print('VotingClassifier accuracy: ', accuracy_score(y_test, y_pred_vc))"
   ]
  },
  {
   "cell_type": "code",
   "execution_count": 124,
   "metadata": {
    "ExecuteTime": {
     "end_time": "2021-01-07T22:55:05.215196Z",
     "start_time": "2021-01-07T22:55:05.141238Z"
    }
   },
   "outputs": [
    {
     "name": "stdout",
     "output_type": "stream",
     "text": [
      "              precision    recall  f1-score   support\n",
      "\n",
      "           0       0.87      0.95      0.91     12429\n",
      "           1       0.76      0.56      0.65      3846\n",
      "\n",
      "    accuracy                           0.85     16275\n",
      "   macro avg       0.82      0.75      0.78     16275\n",
      "weighted avg       0.85      0.85      0.85     16275\n",
      "\n",
      "Confusion_matrix: \n",
      " [[11761   668]\n",
      " [ 1695  2151]]\n"
     ]
    }
   ],
   "source": [
    "print(classification_report(y_test,y_pred_vc))\n",
    "print('Confusion_matrix: \\n', confusion_matrix(y_test,y_pred_vc))"
   ]
  },
  {
   "cell_type": "markdown",
   "metadata": {
    "ExecuteTime": {
     "end_time": "2021-01-04T10:45:26.124030Z",
     "start_time": "2021-01-04T10:45:26.111046Z"
    }
   },
   "source": [
    "***\n",
    "Ostatni z badanych modeli to VotingClassifier. Jest to model, który przeprowadza proces klasyfikiacji na podstawie klasyfikacji<br>\n",
    "kilku zadeklarowanych modeli. W tym wypadku, zostały zastosowane Regresja Logistyczna, K Najbliższych sąsiadów oraz <br>\n",
    "Drzewo Decyzyjne. W modelu zastosowano parametr voing = 'soft', który oznacza, że klasyfikacja jest przeprowadzona zgodnie<br>\n",
    "z najwyższym prawdopodobieństwem wśród modeli. Model ten osiągnął wyższą dokładność klasyfikacji od każdego z pojedynczych <br>\n",
    "modeli i dokładność ta wyniosła 85.37 %. Mimo wzrostu <i>accuracy</i> modelu nie udało się osiągnąć tak dużej dokładności <br>\n",
    "jaką osiągnął model oparty na działaniu Lasu Losowoego. \n",
    "***"
   ]
  },
  {
   "cell_type": "markdown",
   "metadata": {},
   "source": [
    "# Graficzna ocena modeli"
   ]
  },
  {
   "cell_type": "code",
   "execution_count": 125,
   "metadata": {
    "ExecuteTime": {
     "end_time": "2021-01-07T22:55:31.983910Z",
     "start_time": "2021-01-07T22:55:05.219193Z"
    }
   },
   "outputs": [
    {
     "data": {
      "image/png": "[encoded data removed]",
      "text/plain": [
       "<Figure size 720x576 with 1 Axes>"
      ]
     },
     "metadata": {
      "needs_background": "light"
     },
     "output_type": "display_data"
    }
   ],
   "source": [
    "fpr1, tpr1, thr1 = roc_curve(y_test, knn_best_n.predict_proba(X_test)[:,1])\n",
    "fpr2, tpr2, thr2 = roc_curve(y_test, reg.predict_proba(X_test)[:,1])\n",
    "fpr3, tpr3, thr3 = roc_curve(y_test, best_model_dct.predict_proba(X_test)[:,1])\n",
    "fpr4, tpr4, thr4 = roc_curve(y_test, best_model_rf.predict_proba(X_test)[:,1])\n",
    "fpr5, tpr5, thr5 = roc_curve(y_test, vc.predict_proba(X_test)[:,1])\n",
    "#auc = auc(fpr, tpr)\n",
    "auc1 = roc_auc_score(y_test, y_pred_knn_best)\n",
    "auc2 = roc_auc_score(y_test, y_pred_reg_default)\n",
    "auc3 = roc_auc_score(y_test, y_pred_dct_best)\n",
    "auc4 = roc_auc_score(y_test, y_pred_rf_best)\n",
    "auc5 = roc_auc_score(y_test, y_pred_vc)\n",
    "lw = 2\n",
    "plt.figure(figsize=(10, 8))\n",
    "plt.plot(fpr1, tpr1, color='darkorange', lw=lw, label=\"KNN - Curve Area = %0.3f\" % auc1)\n",
    "plt.plot(fpr2, tpr2, color='green', lw=lw, label=\"LR - Curve Area = %0.3f\" % auc2)\n",
    "plt.plot(fpr3, tpr3, color='blue', lw=lw, label=\"DT - Curve Area = %0.3f\" % auc3)\n",
    "plt.plot(fpr4, tpr4, color='brown', lw=lw, label=\"RF - Curve Area = %0.3f\" % auc4)\n",
    "plt.plot(fpr5, tpr5, color='red', lw=lw, label=\"VC - Curve Area = %0.3f\" % auc5)\n",
    "plt.plot([0, 1], [0, 1], color='green', lw=lw, linestyle='--')\n",
    "plt.xlabel('False Positive Rate')\n",
    "plt.ylabel('True Positive Rate')\n",
    "plt.title('Receiver Operating Characteristic Plot')\n",
    "plt.legend(loc=\"lower right\")\n",
    "plt.show()"
   ]
  },
  {
   "cell_type": "code",
   "execution_count": 126,
   "metadata": {
    "ExecuteTime": {
     "end_time": "2021-01-07T22:55:32.014890Z",
     "start_time": "2021-01-07T22:55:31.986906Z"
    }
   },
   "outputs": [
    {
     "name": "stdout",
     "output_type": "stream",
     "text": [
      "KNN-tuning accuracy:  0.8433179723502304 \n",
      "\n",
      "LogisticRegression-tuning accuracy:  0.8350230414746543 \n",
      "\n",
      "DecisionTreeClassifier accuracy:  0.8551152073732718 \n",
      "\n",
      "RandomForestClassifier accuracy:  0.8591705069124423 \n",
      "\n",
      "VotingClassifier accuracy:  0.8548079877112135\n"
     ]
    }
   ],
   "source": [
    "print('KNN-tuning accuracy: ', accuracy_score(y_test, y_pred_knn_best),'\\n')\n",
    "print(\"LogisticRegression-tuning accuracy: \", accuracy_score(y_test,y_pred_reg_best),'\\n')\n",
    "print(\"DecisionTreeClassifier accuracy: \", accuracy_score(y_test,y_pred_dct_best),'\\n')\n",
    "print(\"RandomForestClassifier accuracy: \", accuracy_score(y_test,y_pred_rf_best),'\\n')\n",
    "print('VotingClassifier accuracy: ', accuracy_score(y_test, y_pred_vc))"
   ]
  },
  {
   "cell_type": "markdown",
   "metadata": {},
   "source": [
    "***\n",
    "Spośród analizowanych modeli najlepszy okazał się Las Losowy. Jednocześnie pod względem <i>accuracy</i> jak i <i>AUC,</i><br>\n",
    "który jest przedstawiony na wykresie powyżej. Równocześnie proces tuningu hiperparametrów był najbardziej czasłochołnny właśnie<br> dla tego modelu. \n",
    "\n",
    "\n",
    "***"
   ]
  },
  {
   "cell_type": "code",
   "execution_count": null,
   "metadata": {},
   "outputs": [],
   "source": []
  }
 ],
 "metadata": {
  "kernelspec": {
   "display_name": "Python 3",
   "language": "python",
   "name": "python3"
  },
  "language_info": {
   "codemirror_mode": {
    "name": "ipython",
    "version": 3
   },
   "file_extension": ".py",
   "mimetype": "text/x-python",
   "name": "python",
   "nbconvert_exporter": "python",
   "pygments_lexer": "ipython3",
   "version": "3.7.6"
  }
 },
 "nbformat": 4,
 "nbformat_minor": 4
}
